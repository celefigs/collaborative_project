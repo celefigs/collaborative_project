{
 "cells": [
  {
   "cell_type": "markdown",
   "metadata": {
    "colab_type": "text",
    "id": "view-in-github"
   },
   "source": [
    "<a href=\"https://colab.research.google.com/github/celefigs/collaborative_project/blob/main/main.ipynb\" target=\"_parent\"><img src=\"https://colab.research.google.com/assets/colab-badge.svg\" alt=\"Open In Colab\"/></a>"
   ]
  },
  {
   "cell_type": "code",
   "execution_count": 1,
   "metadata": {
    "id": "J-LcVJAcobRO"
   },
   "outputs": [],
   "source": [
    "import pandas as pd\n",
    "import numpy as np\n",
    "import seaborn as sns\n"
   ]
  },
  {
   "cell_type": "code",
   "execution_count": 2,
   "metadata": {
    "id": "OGJtmX1Mvu0W"
   },
   "outputs": [],
   "source": [
    "import math\n",
    "import matplotlib.pyplot as plt\n"
   ]
  },
  {
   "cell_type": "code",
   "execution_count": 3,
   "metadata": {
    "colab": {
     "base_uri": "https://localhost:8080/",
     "height": 206
    },
    "id": "pQxqeJPsmRp7",
    "outputId": "f5a18f10-8fc5-4d49-c393-47992c5f06fc"
   },
   "outputs": [
    {
     "data": {
      "text/html": [
       "<div>\n",
       "<style scoped>\n",
       "    .dataframe tbody tr th:only-of-type {\n",
       "        vertical-align: middle;\n",
       "    }\n",
       "\n",
       "    .dataframe tbody tr th {\n",
       "        vertical-align: top;\n",
       "    }\n",
       "\n",
       "    .dataframe thead th {\n",
       "        text-align: right;\n",
       "    }\n",
       "</style>\n",
       "<table border=\"1\" class=\"dataframe\">\n",
       "  <thead>\n",
       "    <tr style=\"text-align: right;\">\n",
       "      <th></th>\n",
       "      <th>uniqueID</th>\n",
       "      <th>drugName</th>\n",
       "      <th>condition</th>\n",
       "      <th>review</th>\n",
       "      <th>rating</th>\n",
       "      <th>date</th>\n",
       "      <th>usefulCount</th>\n",
       "    </tr>\n",
       "  </thead>\n",
       "  <tbody>\n",
       "    <tr>\n",
       "      <th>0</th>\n",
       "      <td>206461</td>\n",
       "      <td>Valsartan</td>\n",
       "      <td>Left Ventricular Dysfunction</td>\n",
       "      <td>\"It has no side effect, I take it in combinati...</td>\n",
       "      <td>9</td>\n",
       "      <td>20-May-12</td>\n",
       "      <td>27</td>\n",
       "    </tr>\n",
       "    <tr>\n",
       "      <th>1</th>\n",
       "      <td>95260</td>\n",
       "      <td>Guanfacine</td>\n",
       "      <td>ADHD</td>\n",
       "      <td>\"My son is halfway through his fourth week of ...</td>\n",
       "      <td>8</td>\n",
       "      <td>27-Apr-10</td>\n",
       "      <td>192</td>\n",
       "    </tr>\n",
       "    <tr>\n",
       "      <th>2</th>\n",
       "      <td>92703</td>\n",
       "      <td>Lybrel</td>\n",
       "      <td>Birth Control</td>\n",
       "      <td>\"I used to take another oral contraceptive, wh...</td>\n",
       "      <td>5</td>\n",
       "      <td>14-Dec-09</td>\n",
       "      <td>17</td>\n",
       "    </tr>\n",
       "    <tr>\n",
       "      <th>3</th>\n",
       "      <td>138000</td>\n",
       "      <td>Ortho Evra</td>\n",
       "      <td>Birth Control</td>\n",
       "      <td>\"This is my first time using any form of birth...</td>\n",
       "      <td>8</td>\n",
       "      <td>3-Nov-15</td>\n",
       "      <td>10</td>\n",
       "    </tr>\n",
       "    <tr>\n",
       "      <th>4</th>\n",
       "      <td>35696</td>\n",
       "      <td>Buprenorphine / naloxone</td>\n",
       "      <td>Opiate Dependence</td>\n",
       "      <td>\"Suboxone has completely turned my life around...</td>\n",
       "      <td>9</td>\n",
       "      <td>27-Nov-16</td>\n",
       "      <td>37</td>\n",
       "    </tr>\n",
       "  </tbody>\n",
       "</table>\n",
       "</div>"
      ],
      "text/plain": [
       "   uniqueID                  drugName                     condition  \\\n",
       "0    206461                 Valsartan  Left Ventricular Dysfunction   \n",
       "1     95260                Guanfacine                          ADHD   \n",
       "2     92703                    Lybrel                 Birth Control   \n",
       "3    138000                Ortho Evra                 Birth Control   \n",
       "4     35696  Buprenorphine / naloxone             Opiate Dependence   \n",
       "\n",
       "                                              review  rating       date  \\\n",
       "0  \"It has no side effect, I take it in combinati...       9  20-May-12   \n",
       "1  \"My son is halfway through his fourth week of ...       8  27-Apr-10   \n",
       "2  \"I used to take another oral contraceptive, wh...       5  14-Dec-09   \n",
       "3  \"This is my first time using any form of birth...       8   3-Nov-15   \n",
       "4  \"Suboxone has completely turned my life around...       9  27-Nov-16   \n",
       "\n",
       "   usefulCount  \n",
       "0           27  \n",
       "1          192  \n",
       "2           17  \n",
       "3           10  \n",
       "4           37  "
      ]
     },
     "execution_count": 3,
     "metadata": {},
     "output_type": "execute_result"
    }
   ],
   "source": [
    "file_path = '../data/drugsComTrain.csv'\n",
    "\n",
    "drug_data_df=pd.read_csv(file_path)\n",
    "\n",
    "drug_data_df.head()"
   ]
  },
  {
   "cell_type": "code",
   "execution_count": 4,
   "metadata": {
    "colab": {
     "base_uri": "https://localhost:8080/"
    },
    "id": "lJ8ey7IBmRXM",
    "outputId": "9a5c63b3-9573-4e33-cc16-3d03e68290bc"
   },
   "outputs": [
    {
     "name": "stdout",
     "output_type": "stream",
     "text": [
      "Rows:  161297\n",
      "Columns:  7\n"
     ]
    }
   ],
   "source": [
    "print ('Rows: ', drug_data_df.shape[0])\n",
    "print('Columns: ', drug_data_df.shape[1])"
   ]
  },
  {
   "cell_type": "code",
   "execution_count": 5,
   "metadata": {
    "colab": {
     "base_uri": "https://localhost:8080/"
    },
    "id": "Dx29Lsvgv2EW",
    "outputId": "7a280ad2-4333-45c0-f528-ce1cee3950ef"
   },
   "outputs": [
    {
     "name": "stdout",
     "output_type": "stream",
     "text": [
      "<class 'pandas.core.frame.DataFrame'>\n",
      "RangeIndex: 161297 entries, 0 to 161296\n",
      "Data columns (total 7 columns):\n",
      " #   Column       Non-Null Count   Dtype \n",
      "---  ------       --------------   ----- \n",
      " 0   uniqueID     161297 non-null  int64 \n",
      " 1   drugName     161297 non-null  object\n",
      " 2   condition    160398 non-null  object\n",
      " 3   review       161297 non-null  object\n",
      " 4   rating       161297 non-null  int64 \n",
      " 5   date         161297 non-null  object\n",
      " 6   usefulCount  161297 non-null  int64 \n",
      "dtypes: int64(3), object(4)\n",
      "memory usage: 8.6+ MB\n"
     ]
    }
   ],
   "source": [
    "drug_data_df.info()"
   ]
  },
  {
   "cell_type": "code",
   "execution_count": 6,
   "metadata": {
    "colab": {
     "base_uri": "https://localhost:8080/"
    },
    "id": "TkEl5F4MpjID",
    "outputId": "4418634c-ac6a-44bf-fb59-c1dc7663a2d4"
   },
   "outputs": [
    {
     "data": {
      "text/plain": [
       "array(['Left Ventricular Dysfunction', 'ADHD', 'Birth Control',\n",
       "       'Opiate Dependence', 'Benign Prostatic Hyperplasia',\n",
       "       'Emergency Contraception', 'Bipolar Disorde', 'Epilepsy',\n",
       "       'Migraine Prevention', 'Depression', \"Crohn's Disease\", 'Cough',\n",
       "       'Obesity', 'Urinary Tract Infection', 'ibromyalgia',\n",
       "       'Chronic Myelogenous Leukemia', 'HIV Infection', 'Insomnia',\n",
       "       'Rheumatoid Arthritis', 'Vaginal Yeast Infection',\n",
       "       'Chlamydia Infection', 'Hirsutism', 'Panic Disorde', 'Migraine',\n",
       "       nan, 'Pain', 'Irritable Bowel Syndrome', 'Osteoarthritis',\n",
       "       'Constipation', 'Bowel Preparation', 'Psychosis', 'Muscle Spasm',\n",
       "       'Hepatitis C', 'Overactive Bladde', 'Diabetes, Type 2',\n",
       "       'Asthma, Maintenance', 'Non-Small Cell Lung Cance',\n",
       "       'Schizophrenia', 'Dysuria', 'Smoking Cessation', 'Anxiety', 'Acne',\n",
       "       'emale Infertility', 'Constipation, Acute',\n",
       "       'Constipation, Drug Induced', 'Erectile Dysfunction',\n",
       "       'Trigeminal Neuralgia', 'Underactive Thyroid', 'Chronic Pain',\n",
       "       'Atrophic Vaginitis', 'Skin and Structure Infection', 'Tinnitus',\n",
       "       'Major Depressive Disorde', 'Anxiety and Stress', 'Rosacea',\n",
       "       'High Blood Pressure',\n",
       "       '2</span> users found this comment helpful.',\n",
       "       'Restless Legs Syndrome',\n",
       "       'Osteolytic Bone Metastases of Solid Tumors', 'Bronchitis',\n",
       "       'Skin or Soft Tissue Infection', 'Obsessive Compulsive Disorde',\n",
       "       'Endometriosis', 'Keratoconjunctivitis Sicca', 'Breakthrough Pain',\n",
       "       'Seizures', 'Neuropathic Pain', 'Sedation', 'Menstrual Disorders',\n",
       "       'Allergic Rhinitis', 'Anesthesia',\n",
       "       'Undifferentiated Connective Tissue Disease', 'Diabetes, Type 1',\n",
       "       'Abnormal Uterine Bleeding', 'Weight Loss',\n",
       "       'Constipation, Chronic', 'Breast Cancer, Metastatic',\n",
       "       'Period Pain', 'Helicobacter Pylori Infection',\n",
       "       'Atrial Fibrillation', 'Uterine Fibroids',\n",
       "       '4</span> users found this comment helpful.', 'Kidney Infections',\n",
       "       'Generalized Anxiety Disorde', 'Asthma', 'Postmenopausal Symptoms',\n",
       "       'High Cholesterol', 'Hypogonadism, Male', 'Hyperthyroidism',\n",
       "       'Back Pain', 'Anaplastic Oligodendroglioma', \"Sjogren's Syndrome\",\n",
       "       'Asthma, acute', 'Hot Flashes',\n",
       "       '3</span> users found this comment helpful.',\n",
       "       'Herpes Simplex, Suppression', 'Bacterial Infection', 'Bursitis',\n",
       "       'Diaper Rash', 'Systemic Mastocytosis', 'Trichotillomania',\n",
       "       \"Hashimoto's disease\", 'Eczema', 'Dental Abscess', 'Headache',\n",
       "       'Hypersomnia', 'Xerostomia', 'Breast Cance', 'Sore Throat',\n",
       "       \"Barrett's Esophagus\", 'Pain/Feve', 'Diverticulitis', 'Sinusitis',\n",
       "       'Polycystic Ovary Syndrome', 'Influenza',\n",
       "       'Hypothyroidism, After Thyroid Removal', 'Onychomycosis, Toenail',\n",
       "       'Progesterone Insufficiency',\n",
       "       '11</span> users found this comment helpful.', 'GERD',\n",
       "       'Nausea/Vomiting, Postoperative', 'Herpes Simplex',\n",
       "       'Gastroparesis', 'Gout, Acute', 'Motion Sickness',\n",
       "       'Multiple Sclerosis', 'Autism', 'Otitis Media',\n",
       "       'Upper Respiratory Tract Infection', 'Surgical Prophylaxis',\n",
       "       'Psoriatic Arthritis', 'Erosive Esophagitis',\n",
       "       'Premature Ventricular Depolarizations', 'Stomach Ulce',\n",
       "       'Nausea/Vomiting', 'Light Anesthesia',\n",
       "       'Angina Pectoris Prophylaxis',\n",
       "       '0</span> users found this comment helpful.', 'Paranoid Disorde',\n",
       "       'Prostatitis', 'Extrapyramidal Reaction', 'mance Anxiety',\n",
       "       'Night Terrors', 'High Cholesterol, Familial Heterozygous',\n",
       "       'Spondyloarthritis', 'Clostridial Infection', 'Dermatomyositis',\n",
       "       'Bronchiectasis', 'Nasal Congestion', 'Benign Essential Trem',\n",
       "       'Angina', 'moterol / mometasone)', 'Impetig',\n",
       "       'Conjunctivitis, Bacterial', 'Post Traumatic Stress Disorde',\n",
       "       'Alcohol Withdrawal', 'Psoriasis', 'Cold Sores', 'Hyperhidrosis',\n",
       "       '1</span> users found this comment helpful.',\n",
       "       'Ankylosing Spondylitis', 'Hemorrhoids',\n",
       "       '142</span> users found this comment helpful.',\n",
       "       'Schizoaffective Disorde', 'Not Listed / Othe', 'Rhinitis',\n",
       "       'Oral Thrush', 'Hyperlipoproteinemia',\n",
       "       'Neutropenia Associated with Chemotherapy', 'Osteoporosis',\n",
       "       'Reflex Sympathetic Dystrophy Syndrome', 'Urticaria', 'Narcolepsy',\n",
       "       'Systemic Lupus Erythematosus', 'Ulcerative Colitis',\n",
       "       'Adult Human Growth Hormone Deficiency', 'Bacterial Vaginitis',\n",
       "       'COPD, Maintenance', 'Anorexia', 'TSH Suppression',\n",
       "       'Breast Cancer, Adjuvant', 'Glaucoma',\n",
       "       'Cough and Nasal Congestion',\n",
       "       '8</span> users found this comment helpful.',\n",
       "       'Inflammatory Conditions', 'Urinary Incontinence', 'Gout',\n",
       "       'Bladder Infection', 'Human Papillomavirus Prophylaxis',\n",
       "       'Glioblastoma Multiforme', 'Strep Throat',\n",
       "       'Bacterial Skin Infection', 'Hereditary Angioedema',\n",
       "       'Cold Symptoms', 'Labor Pain', 'Dry Skin', 'Diabetes Insipidus',\n",
       "       'Methicillin-Resistant Staphylococcus Aureus Infection',\n",
       "       'Borderline Personality Disorde', 'Amenorrhea', 'Pneumonia',\n",
       "       'Seborrheic Dermatitis', 'Interstitial Cystitis',\n",
       "       'Malaria Prevention', 'Prevention of Dental Caries',\n",
       "       'Herbal Supplementation', 'Plaque Psoriasis', \"Raynaud's Syndrome\",\n",
       "       \"Addison's Disease\", 'Prostate Cance', 'Allergies',\n",
       "       'Opioid-Induced Constipation', 'moterol)',\n",
       "       '13</span> users found this comment helpful.', 'Diarrhea',\n",
       "       'Seasonal Allergic Conjunctivitis', 'Opioid Overdose',\n",
       "       'Spondylolisthesis', 'Shift Work Sleep Disorde',\n",
       "       'Obstructive Sleep Apnea/Hypopnea Syndrome',\n",
       "       'Nausea/Vomiting of Pregnancy', 'Mucositis',\n",
       "       'Ulcerative Colitis, Active', 'Head Lice',\n",
       "       'Tonsillitis/Pharyngitis', 'Pseudotumor Cerebri',\n",
       "       \"Parkinson's Disease\", 'Sciatica', 'Cance',\n",
       "       'Bacterial Endocarditis Prevention', 'Diarrhea, Chronic',\n",
       "       'Hypertensive Emergency', 'Keratosis', 'Ovarian Cysts',\n",
       "       \"Behcet's Disease\", 'Chronic Idiopathic Constipation',\n",
       "       'lic Acid Deficiency', 'Chronic Fatigue Syndrome',\n",
       "       'Basal Cell Carcinoma', 'Cataplexy',\n",
       "       \"Crohn's Disease, Maintenance\", 'Diabetic Peripheral Neuropathy',\n",
       "       'Arrhythmia', 'Primary Ovarian Failure', 'Influenza Prophylaxis',\n",
       "       'Agitated State', 'Heart Failure', 'atigue', 'Opiate Withdrawal',\n",
       "       'Endometrial Hyperplasia, Prophylaxis', 'Immunosuppression',\n",
       "       'Dystonia', 'Alopecia', 'Vulvodynia',\n",
       "       'Premenstrual Dysphoric Disorde', 'Alcohol Dependence',\n",
       "       'Myasthenia Gravis', 'Social Anxiety Disorde', 'Atopic Dermatitis',\n",
       "       'Schistosoma japonicum', 'Sinus Symptoms', 'min / sitagliptin)',\n",
       "       'Dermatitis', 'Eye Redness', 'Warts', 'Menorrhagia',\n",
       "       'Seizure Prevention', 'Ophthalmic Surgery', 'Skin Rash',\n",
       "       'Condylomata Acuminata', 'NSAID-Induced Ulcer Prophylaxis',\n",
       "       'Tinea Versicol', 'Peripheral Neuropathy', 'Deep Vein Thrombosis',\n",
       "       '6</span> users found this comment helpful.', 'Heart Attack',\n",
       "       'Pulmonary Embolism, Recurrent Event', 'Light Sedation',\n",
       "       'Acute Lymphoblastic Leukemia', 'Hyperprolactinemia',\n",
       "       'Indigestion', 'Hepatitis B', 'Dysautonomia', 'Status Epilepticus',\n",
       "       'Postpartum Depression', 'Multiple Myeloma',\n",
       "       'Prevention of Hypokalemia', 'Edema', 'Urinary Retention',\n",
       "       'Prevention of Thromboembolism in Atrial Fibrillation',\n",
       "       'Cluster Headaches', 'Sexual Dysfunction, SSRI Induced',\n",
       "       'Dermatitis Herpetiformis', 'Temporomandibular Joint Disorde',\n",
       "       'Burns, External', 'Actinic Keratosis', 'Pharyngitis',\n",
       "       'Melanoma, Metastatic', 'Atrial Flutte', 'Lyme Disease',\n",
       "       'Dry Eye Disease', 'Allergic Reactions', 'Hypertriglyceridemia',\n",
       "       'Pruritus', 'Carcinoid Tum', 'Muscle Pain', 'Colorectal Cance',\n",
       "       'Vitamin/Mineral Supplementation during Pregnancy/Lactation',\n",
       "       'Nausea/Vomiting, Chemotherapy Induced', 'Women (oxybutynin)',\n",
       "       'Primary Immunodeficiency Syndrome',\n",
       "       'New Daily Persistent Headache',\n",
       "       'Pneumococcal Disease Prophylaxis', 'Burning Mouth Syndrome',\n",
       "       'Urinary Tract Stones', 'Pseudobulbar Affect',\n",
       "       '94</span> users found this comment helpful.',\n",
       "       'Eye Redness/Itching', 'Deep Vein Thrombosis, First Event',\n",
       "       'Pulmonary Hypertension', 'Malaria', 'Sarcoidosis',\n",
       "       'Dietary Supplementation', 'Bulimia', 'Tendonitis', 'Nasal Polyps',\n",
       "       'Hypokalemia', 'Anemia, Sickle Cell', 'Uveitis',\n",
       "       'Streptococcal Infection', 'Perimenopausal Symptoms',\n",
       "       'Asperger Syndrome', 'Tinea Corporis', 'Mania',\n",
       "       'Renal Cell Carcinoma', 'COPD', 'Biliary Cirrhosis', 'Vertig',\n",
       "       'Reversal of Opioid Sedation', \"Non-Hodgkin's Lymphoma\",\n",
       "       'High Cholesterol, Familial Homozygous',\n",
       "       'Periodic Limb Movement Disorde', 'Supraventricular Tachycardia',\n",
       "       'Hypoestrogenism', 'Juvenile Idiopathic Arthritis', 'Swine Flu',\n",
       "       'Giardiasis', 'Binge Eating Disorde', \"Tourette's Syndrome\",\n",
       "       'Trichomoniasis', 'acial Wrinkles',\n",
       "       '28</span> users found this comment helpful.',\n",
       "       'Pulmonary Embolism', 'Conjunctivitis, Allergic',\n",
       "       'Avian Influenza', '16</span> users found this comment helpful.',\n",
       "       'Hemangioma', 'Nocturnal Leg Cramps', 'Thyroid Suppression Test',\n",
       "       'Muscle Twitching', 'Pupillary Dilation',\n",
       "       'Lennox-Gastaut Syndrome', 'Opiate Adjunct', 'Postoperative Pain',\n",
       "       'Candida Urinary Tract Infection', 'Cerebral Spasticity',\n",
       "       'Lipodystrophy', 'Androgenetic Alopecia', 'Computed Tomography',\n",
       "       'Mitral Valve Prolapse', 'Vitamin D Deficiency',\n",
       "       'Glaucoma, Open Angle', 'Endoscopy or Radiology Premedication',\n",
       "       \"Alzheimer's Disease\", 'Gouty Arthritis',\n",
       "       'Paroxysmal Supraventricular Tachycardia',\n",
       "       'Deep Vein Thrombosis, Prophylaxis', 'Gaucher Disease',\n",
       "       'Lymphocytic Colitis', 'Pancreatic Cance', 'Cystic Fibrosis',\n",
       "       'Noninfectious Colitis',\n",
       "       '27</span> users found this comment helpful.', 'Nephrocalcinosis',\n",
       "       'Iron Deficiency Anemia', 'mulation) (phenylephrine)', 'Hiccups',\n",
       "       '75</span> users found this comment helpful.',\n",
       "       'Bronchospasm Prophylaxis', 'Chronic Spasticity',\n",
       "       'min / saxagliptin)', 'Post-Cholecystectomy Diarrhea',\n",
       "       'Postherpetic Neuralgia', 'Insomnia, Stimulant-Associated',\n",
       "       'COPD, Acute', 'Herpes Simplex Dendritic Keratitis',\n",
       "       'Oophorectomy', 'Cyclic Vomiting Syndrome',\n",
       "       'Chronic Lymphocytic Leukemia', 'Lyme Disease, Arthritis',\n",
       "       'Pseudomembranous Colitis', 'Conjunctivitis',\n",
       "       '15</span> users found this comment helpful.', 'min)',\n",
       "       'Intraocular Hypertension', 'Aphthous Ulce',\n",
       "       'Ulcerative Colitis, Maintenance', 'Melasma',\n",
       "       'Lyme Disease, Neurologic', 'ge (amlodipine / valsartan)',\n",
       "       'Herpes Zoste', '12</span> users found this comment helpful.',\n",
       "       'Cervical Dystonia', 'Labor Induction', 'Human Papilloma Virus',\n",
       "       'Chronic Pancreatitis', 'Polycythemia Vera',\n",
       "       '9</span> users found this comment helpful.',\n",
       "       'Dermatological Disorders', 'Lewy Body Dementia',\n",
       "       'amilial Mediterranean Feve', 'Neurosurgery', 'Gastroenteritis',\n",
       "       'Macular Edema', 'Tinea Pedis',\n",
       "       '7</span> users found this comment helpful.',\n",
       "       'Diagnosis and Investigation',\n",
       "       '35</span> users found this comment helpful.', 'Gas', 'Neuralgia',\n",
       "       'Local Anesthesia', '54</span> users found this comment helpful.',\n",
       "       'Acute Coronary Syndrome', 'Aspiration Pneumonia',\n",
       "       'Idiopathic Thrombocytopenic Purpura', 'Onychomycosis, Fingernail',\n",
       "       'Photoaging of the Skin', 'Premature Lab', 'Precocious Puberty',\n",
       "       'Prevention of Bladder infection', 'Seasonal Affective Disorde',\n",
       "       'Diabetic Kidney Disease', \"Crohn's Disease, Acute\",\n",
       "       'Insulin Resistance Syndrome', 'Pudendal Neuralgia',\n",
       "       \"Reiter's Syndrome\", '17</span> users found this comment helpful.',\n",
       "       'Amyotrophic Lateral Sclerosis', 'Body Dysmorphic Disorde',\n",
       "       'Prosthetic Heart Valves, Mechanical Valves - Thrombosis Prophylaxis',\n",
       "       'Dandruff', 'Vitamin B12 Deficiency', 'Bone infection',\n",
       "       'Prosthetic Heart Valves, Tissue Valves - Thrombosis Prophylaxis',\n",
       "       'Iritis', 'Allergic Urticaria', 'Cardiovascular Risk Reduction',\n",
       "       'Giant Cell Tumor of Bone', 'Babesiosis',\n",
       "       'Secondary Hyperparathyroidism', 'Hypoparathyroidism',\n",
       "       'Performance Anxiety', 'Abortion', 'Skin Cance',\n",
       "       'Ovulation Induction', 'Liver Magnetic Resonance Imaging',\n",
       "       'Vitamin/Mineral Supplementation and Deficiency',\n",
       "       '79</span> users found this comment helpful.',\n",
       "       'Herpes Simplex, Mucocutaneous/Immunocompetent Host',\n",
       "       '10</span> users found this comment helpful.',\n",
       "       'Anemia Associated with Chronic Renal Failure',\n",
       "       'Hyperphosphatemia of Renal Failure',\n",
       "       'Dissociative Identity Disorde', 'Anal Fissure and Fistula',\n",
       "       '14</span> users found this comment helpful.',\n",
       "       'Herpes Simplex, Mucocutaneous/Immunocompromised Host', 'Scabies',\n",
       "       '5</span> users found this comment helpful.', 'Endometrial Cance',\n",
       "       'Transient Ischemic Attack', 'Granuloma Annulare',\n",
       "       \"Traveler's Diarrhea\", 'Candidemia',\n",
       "       't Pac with Cyclobenzaprine (cyclobenzaprine)',\n",
       "       'Hypoactive Sexual Desire Disorde', 'Epicondylitis, Tennis Elbow',\n",
       "       'Nightmares', 'Dientamoeba fragilis', 'Ventricular Tachycardia',\n",
       "       'Dumping Syndrome', 'Myelodysplastic Syndrome', 'Hypodermoclysis',\n",
       "       'zen Shoulde', 'Topical Disinfection', 'Perioral Dermatitis',\n",
       "       'Agitation', 'Intermittent Claudication',\n",
       "       'Prevention of Osteoporosis', 'Leukemia', 'Dermatitis Herpeti',\n",
       "       'mis', 'Eosinophilic Esophagitis',\n",
       "       'Hyperlipoproteinemia Type IIa, Elevated LDL',\n",
       "       'Endometrial Hyperplasia',\n",
       "       '19</span> users found this comment helpful.', 'Peptic Ulce',\n",
       "       'Chronic Myofascial Pain', 'Enterocolitis',\n",
       "       'Secondary Cutaneous Bacterial Infections', 'Syringomyelia',\n",
       "       'Postoperative Ocular Inflammation',\n",
       "       'Persistent Depressive Disorde', 'Otitis Externa',\n",
       "       'Organ Transplant, Rejection Prophylaxis',\n",
       "       'Intermittent Explosive Disorde', 'Dermatophytosis',\n",
       "       'Inflammatory Bowel Disease', 'Porphyria', 'Anemia',\n",
       "       'Hyperuricemia Secondary to Chemotherapy',\n",
       "       'Wolff-Parkinson-White Syndrome', 'eve', 'Ectopic Pregnancy',\n",
       "       'Thyroid Cance', 'Tuberculosis, Latent',\n",
       "       'Nasal Carriage of Staphylococcus aureus', 'Systemic Candidiasis',\n",
       "       'Ear Wax Impaction', 'Hepatocellular Carcinoma', 'Dyspareunia',\n",
       "       '41</span> users found this comment helpful.', 'Tic Disorde',\n",
       "       'Head and Neck Cance', 'Klinefelter Syndrome', 'Rhinorrhea',\n",
       "       'Soft Tissue Sarcoma', 'Diabetic Macular Edema',\n",
       "       'Menopausal Disorders', 'Anesthetic Adjunct', 'Tinea Cruris',\n",
       "       'tic (mycophenolic acid)', 'Ischemic Stroke', 'Malignant Glioma',\n",
       "       'Thrombocythemia', 'Atrophic Urethritis', 'Systemic Sclerosis',\n",
       "       'Macular Degeneration', 'AIDS Related Wasting', 'Hemophilia A',\n",
       "       'Osteolytic Bone Lesions of Multiple Myeloma',\n",
       "       'Autoimmune Hemolytic Anemia', 'ailure to Thrive',\n",
       "       'Strongyloidiasis', 'Vitamin K Deficiency', 'Ulcerative Proctitis',\n",
       "       'Premenstrual Syndrome',\n",
       "       '23</span> users found this comment helpful.',\n",
       "       'Primary Hyperaldosteronism', 'Lactose Intolerance',\n",
       "       'Anal Itching', 'amilial Cold Autoinflammatory Syndrome',\n",
       "       'Duodenal Ulce', 'Tuberculosis, Prophylaxis', 'Neurosis',\n",
       "       \"Turner's Syndrome\", 'NSAID-Induced Gastric Ulce',\n",
       "       'CNS Magnetic Resonance Imaging', 'Atherosclerosis',\n",
       "       'Deep Vein Thrombosis Prophylaxis after Hip Replacement Surgery',\n",
       "       'Gastritis/Duodenitis', 'Diarrhea, Acute', 'Costochondritis',\n",
       "       'Portal Hypertension', 'Glaucoma/Intraocular Hypertension',\n",
       "       'Toothache', 'Benzodiazepine Withdrawal', 'm Pain Disorde',\n",
       "       'Esophageal Candidiasis',\n",
       "       'Deep Vein Thrombosis Prophylaxis after Knee Replacement Surgery',\n",
       "       'Peripheral Arterial Disease',\n",
       "       'Deep Vein Thrombosis, Recurrent Event', 'Pseudogout, Prophylaxis',\n",
       "       'Lichen Planus', 'CMV Prophylaxis',\n",
       "       '64</span> users found this comment helpful.', 'Neuritis',\n",
       "       'Typhoid Feve', 'Tardive Dyskinesia', 'Ichthyosis',\n",
       "       'Juvenile Rheumatoid Arthritis', 'B12 Nutritional Deficiency',\n",
       "       '18</span> users found this comment helpful.',\n",
       "       'Primary Nocturnal Enuresis',\n",
       "       '146</span> users found this comment helpful.', \"Dercum's Disease\",\n",
       "       'Cutaneous Candidiasis', 'Gingivitis', 'Q Feve', 'Hyperekplexia',\n",
       "       '44</span> users found this comment helpful.', 'Niacin Deficiency',\n",
       "       'Dietary Fiber Supplementation', 'Nephrotic Syndrome',\n",
       "       'Pinworm Infection (Enterobius vermicularis)',\n",
       "       'Pancreatic Exocrine Dysfunction',\n",
       "       'Nausea/Vomiting, Radiation Induced', 'Schilling Test',\n",
       "       'Mild Cognitive Impairment', 'Ischemic Stroke, Prophylaxis',\n",
       "       '20</span> users found this comment helpful.',\n",
       "       'Gonococcal Infection, Uncomplicated', 'Ovarian Cance',\n",
       "       'Eyelash Hypotrichosis', \"Meniere's Disease\", 'Tinea Capitis',\n",
       "       '21</span> users found this comment helpful.', 'Lichen Sclerosus',\n",
       "       'min / pioglitazone)', 'Renal Transplant', 'Gout, Prophylaxis',\n",
       "       \"von Willebrand's Disease\",\n",
       "       'Prevention of Atherothrombotic Events', 'Small Fiber Neuropathy',\n",
       "       '110</span> users found this comment helpful.',\n",
       "       'min / rosiglitazone)', \"Peyronie's Disease\",\n",
       "       'Autoimmune Hepatitis', 'llicular Lymphoma',\n",
       "       'Auditory Processing Disorde', 'Herpes Zoster, Prophylaxis',\n",
       "       'Submental Fullness', 'Lactation Augmentation',\n",
       "       'Radionuclide Myocardial Perfusion Study',\n",
       "       'Prevention of Cardiovascular Disease', 'Varicella-Zoste',\n",
       "       'Pelvic Inflammatory Disease', 'Intraabdominal Infection', 'Croup',\n",
       "       '85</span> users found this comment helpful.',\n",
       "       'Dermatologic Lesion',\n",
       "       'Hyperlipoproteinemia Type IV, Elevated VLDL', 'Expectoration',\n",
       "       'Primary Hyperaldosteronism Diagnosis', 'Abdominal Distension',\n",
       "       'Salivary Gland Cance', 'Pulmonary Embolism, First Event',\n",
       "       'Postpartum Breast Pain',\n",
       "       'Postural Orthostatic Tachycardia Syndrome',\n",
       "       '46</span> users found this comment helpful.',\n",
       "       'Pediatric Growth Hormone Deficiency', 'Hypomagnesemia',\n",
       "       'ge HCT (amlodipine / hydrochlorothiazide / valsartan)',\n",
       "       'Hairy Cell Leukemia', 'Histoplasmosis', 'Hypoglycemia',\n",
       "       '31</span> users found this comment helpful.', 'Brain Tum',\n",
       "       'Gastrointestinal Stromal Tum', 'Tetanus',\n",
       "       'Breast Cancer, Prevention', 'ICU Agitation', 'Women (minoxidil)',\n",
       "       'Peripheral T-cell Lymphoma',\n",
       "       'Chronic Inflammatory Demyelinating Polyradiculoneuropathy',\n",
       "       'Pathological Hypersecretory Conditions',\n",
       "       'Oral and Dental Conditions', 'Antiphospholipid Syndrome',\n",
       "       'Ventricular Arrhythmia', 'Asystole', \"Wegener's Granulomatosis\",\n",
       "       'Thromboembolic Stroke Prophylaxis',\n",
       "       'Platelet Aggregation Inhibition', 'Sleep Paralysis',\n",
       "       'Rejection Prophylaxis', 'Delayed Puberty, Male', 'Ascariasis',\n",
       "       '25</span> users found this comment helpful.',\n",
       "       'Acute Promyelocytic Leukemia',\n",
       "       '32</span> users found this comment helpful.', 'Bartonellosis',\n",
       "       'Cyclothymic Disorde', 'Hypokalemic Periodic Paralysis',\n",
       "       'Varicose Veins', 'Mononucleosis', 'Cachexia', 'Hyperkalemia',\n",
       "       \"Still's Disease\", '48</span> users found this comment helpful.',\n",
       "       'Dementia', 'Ocular Rosacea', 'Hidradenitis Suppurativa', 'SIADH',\n",
       "       'Bullous Pemphigoid', 'Angioedema',\n",
       "       'Mountain Sickness / Altitude Sickness',\n",
       "       'Severe Mood Dysregulation', 'Cutaneous T-cell Lymphoma',\n",
       "       'Adrenocortical Insufficiency', 'Myxedema Coma',\n",
       "       'Small Bowel Bacterial Overgrowth', 'Sunburn',\n",
       "       '33</span> users found this comment helpful.',\n",
       "       'Transverse Myelitis', 'Squamous Cell Carcinoma', 'Parkinsonism',\n",
       "       '22</span> users found this comment helpful.', 'Thyrotoxicosis',\n",
       "       '29</span> users found this comment helpful.',\n",
       "       '30</span> users found this comment helpful.',\n",
       "       'Epididymitis, Sexually Transmitted', 'Neck Pain',\n",
       "       'Bleeding Disorde', '63</span> users found this comment helpful.',\n",
       "       'actor IX Deficiency', 'Melanoma', 'Thrombocytopenia',\n",
       "       'Esophageal Variceal Hemorrhage Prophylaxis', 'Glioblastoma Multi',\n",
       "       'Cholera', 'Anorexia/Feeding Problems',\n",
       "       '45</span> users found this comment helpful.', 'Peritonitis',\n",
       "       'AV Heart Block', 'Pe', \"Wilson's Disease\",\n",
       "       'Nonalcoholic Fatty Liver Disease',\n",
       "       '34</span> users found this comment helpful.', 'Sepsis', 'Anthrax',\n",
       "       'Body Imaging', 'Aggressive Behavi', 'Hepatic Tum', 'Ehrlichiosis',\n",
       "       'Hypopituitarism', 'Gender Dysphoria', 'Infectious Diarrhea',\n",
       "       'Ventricular Fibrillation', 'Anaphylaxis', 'Pemphigus',\n",
       "       'Multiple Endocrine Adenomas', 'Pre-Exposure Prophylaxis',\n",
       "       'Postoperative Increased Intraocular Pressure',\n",
       "       'Pruritus of Partial Biliary Obstruction', 'Pertussis',\n",
       "       'Periodontitis', 'Lymphoma', 'Hypercalcemia of Malignancy',\n",
       "       'Pityriasis rubra pilaris', 'Amebiasis', 't Care',\n",
       "       'Hepatic Encephalopathy',\n",
       "       '55</span> users found this comment helpful.',\n",
       "       'Deep Neck Infection', 'Meningitis, Meningococcal',\n",
       "       'Parkinsonian Trem', 'Rabies Prophylaxis',\n",
       "       '39</span> users found this comment helpful.', 'Hypotension',\n",
       "       'Myelofibrosis', '98</span> users found this comment helpful.',\n",
       "       'cal Segmental Glomerulosclerosis',\n",
       "       'Gastric Ulcer Maintenance Treatment', \"Paget's Disease\",\n",
       "       'Infection Prophylaxis', 'Gastrointestinal Decontamination',\n",
       "       'Mixed Connective Tissue Disease',\n",
       "       '24</span> users found this comment helpful.',\n",
       "       'Somatoform Pain Disorde', 'Esophageal Spasm',\n",
       "       'Campylobacter Gastroenteritis', 'Hyperphosphatemia',\n",
       "       'Oligospermia', 'Wound Cleansing', 'Euvolemic Hyponatremia',\n",
       "       'Gallbladder Disease',\n",
       "       '84</span> users found this comment helpful.',\n",
       "       'Mycobacterium avium-intracellulare, Treatment',\n",
       "       'Oppositional Defiant Disorde', 'Legionella Pneumonia',\n",
       "       'Breast Cancer, Palliative', 'Hydrocephalus',\n",
       "       'Hyperlipoproteinemia Type III, Elevated beta-VLDL   IDL',\n",
       "       '36</span> users found this comment helpful.',\n",
       "       'Anaplastic Astrocytoma', \"Dupuytren's contracture\",\n",
       "       '40</span> users found this comment helpful.', 'Mumps Prophylaxis',\n",
       "       'Skin Disinfection, Preoperative', 'Hyperbilirubinemia',\n",
       "       'Meningitis', 'Corneal Ulce', 'acial Lipoatrophy',\n",
       "       '43</span> users found this comment helpful.',\n",
       "       'Percutaneous Coronary Intervention', 'Hepatitis B Prevention',\n",
       "       'Tuberculosis, Active', 'Cerebrovascular Insufficiency',\n",
       "       'Head Injury', 'Anti NMDA Receptor Encephalitis',\n",
       "       'Nonoccupational Exposure',\n",
       "       '72</span> users found this comment helpful.',\n",
       "       'Gonadotropin Inhibition', 'unctional Gastric Disorde',\n",
       "       'Chronic Eosinophilic Leukemia', 'Acetaminophen Overdose',\n",
       "       'Duodenal Ulcer Prophylaxis', 'Paragonimus westermani, Lung Fluke',\n",
       "       'Alpha-1 Proteinase Inhibitor Deficiency', \"Cogan's Syndrome\",\n",
       "       'Uterine Bleeding', 'Stomach Cance', 'Sporotrichosis',\n",
       "       'Cluster-Tic Syndrome', 'Gestational Diabetes',\n",
       "       'Stress Ulcer Prophylaxis',\n",
       "       'Reversal of Nondepolarizing Muscle Relaxants', 'Solid Tumors',\n",
       "       'mist (', 'Schnitzler Syndrome', 'Hypocalcemia',\n",
       "       '26</span> users found this comment helpful.',\n",
       "       'Meningococcal Meningitis Prophylaxis', 'Nocardiosis',\n",
       "       'Hemophilia B', '42</span> users found this comment helpful.',\n",
       "       'Microscopic polyangiitis', 'Gonococcal Infection, Disseminated',\n",
       "       'Neurotic Depression', 'Keratitis',\n",
       "       '99</span> users found this comment helpful.',\n",
       "       \"Hodgkin's Lymphoma\", 'me', 'STD Prophylaxis',\n",
       "       '123</span> users found this comment helpful.',\n",
       "       'Small Bowel or Pancreatic Fistula',\n",
       "       'Prevention of Perinatal Group B Streptococcal Disease',\n",
       "       '74</span> users found this comment helpful.', 'Cerebral Edema',\n",
       "       'Testicular Cance', 'Short Stature for Age',\n",
       "       '47</span> users found this comment helpful.',\n",
       "       'Aspergillosis, Aspergilloma', 'Pemphigoid',\n",
       "       'Hyperparathyroidism Secondary to Renal Impairment',\n",
       "       '76</span> users found this comment helpful.',\n",
       "       'Ramsay Hunt Syndrome', 'Cutaneous Larva Migrans',\n",
       "       'Occipital Neuralgia', 'Blepharitis', 'Patent Ductus Arteriosus',\n",
       "       'Joint Infection', '77</span> users found this comment helpful.',\n",
       "       'Manscaping Pain', 'Strabismus',\n",
       "       'Organ Transplant, Rejection Reversal',\n",
       "       'Leukocytoclastic Vasculitis', 'Coronary Artery Disease',\n",
       "       'Gastric Cance', 'ibrocystic Breast Disease',\n",
       "       '121</span> users found this comment helpful.',\n",
       "       'ungal Infection Prophylaxis', 'Short Stature', 'Hypercalcemia',\n",
       "       'Coccidioidomycosis', 'Cyclitis', 'Anemia, Chemotherapy Induced',\n",
       "       'Upper Limb Spasticity',\n",
       "       '95</span> users found this comment helpful.',\n",
       "       '61</span> users found this comment helpful.',\n",
       "       'Diagnostic Bronchograms', 'Neoplastic Diseases',\n",
       "       '51</span> users found this comment helpful.',\n",
       "       'Mycoplasma Pneumonia', 'Linear IgA Disease',\n",
       "       'Subarachnoid Hemorrhage', 'Myeloproliferative Disorders',\n",
       "       'ungal Pneumonia', '145</span> users found this comment helpful.',\n",
       "       'Scleroderma', 'Zollinger-Ellison Syndrome', 'Tinea Barbae',\n",
       "       'Acute Nonlymphocytic Leukemia',\n",
       "       '62</span> users found this comment helpful.',\n",
       "       '92</span> users found this comment helpful.', 'Neutropenia'],\n",
       "      dtype=object)"
      ]
     },
     "execution_count": 6,
     "metadata": {},
     "output_type": "execute_result"
    }
   ],
   "source": [
    "drug_data_df['condition'].unique()"
   ]
  },
  {
   "cell_type": "code",
   "execution_count": 7,
   "metadata": {
    "id": "HzgCbfWUpcUD"
   },
   "outputs": [],
   "source": [
    "#filter \"Birth Control\"\n",
    "birth_control_df=drug_data_df[drug_data_df['condition']=='Birth Control'] # add emergency contraception"
   ]
  },
  {
   "cell_type": "code",
   "execution_count": 8,
   "metadata": {
    "id": "PPGSTyQupjpq"
   },
   "outputs": [
    {
     "name": "stdout",
     "output_type": "stream",
     "text": [
      "        uniqueID                            drugName      condition  \\\n",
      "2          92703                              Lybrel  Birth Control   \n",
      "3         138000                          Ortho Evra  Birth Control   \n",
      "9          48928  Ethinyl estradiol / levonorgestrel  Birth Control   \n",
      "14         98494                           Nexplanon  Birth Control   \n",
      "22        227020                        Etonogestrel  Birth Control   \n",
      "...          ...                                 ...            ...   \n",
      "161268     76151                              Portia  Birth Control   \n",
      "161269     73058   Ethinyl estradiol / norethindrone  Birth Control   \n",
      "161271    148859                              Mirena  Birth Control   \n",
      "161273    109111                           Nexplanon  Birth Control   \n",
      "161291    164345                      Junel 1.5 / 30  Birth Control   \n",
      "\n",
      "                                                   review  rating       date  \\\n",
      "2       \"I used to take another oral contraceptive, wh...       5  14-Dec-09   \n",
      "3       \"This is my first time using any form of birth...       8   3-Nov-15   \n",
      "9       \"I had been on the pill for many years. When m...       8   8-Dec-16   \n",
      "14      \"Started Nexplanon 2 months ago because I have...       3   7-Aug-14   \n",
      "22      \"Nexplanon does its job. I can have worry free...       9  11-Aug-14   \n",
      "...                                                   ...     ...        ...   \n",
      "161268  \"I switched to Portia 12 days ago when I start...       1  28-Jan-14   \n",
      "161269  \"When I first starting taking Lo Loestrin Fe, ...      10  20-Apr-15   \n",
      "161271  \"My experience: Painful insertion but I expect...      10  26-Jan-16   \n",
      "161273  \"I have had the Nexplanon since Dec. 27, 2016 ...       6   6-Apr-17   \n",
      "161291  \"This would be my second month on Junel. I&#03...       6  27-May-15   \n",
      "\n",
      "        usefulCount  \n",
      "2                17  \n",
      "3                10  \n",
      "9                 1  \n",
      "14               10  \n",
      "22               11  \n",
      "...             ...  \n",
      "161268            9  \n",
      "161269           13  \n",
      "161271            4  \n",
      "161273            0  \n",
      "161291            0  \n",
      "\n",
      "[28788 rows x 7 columns]\n"
     ]
    }
   ],
   "source": [
    "print(birth_control_df)"
   ]
  },
  {
   "cell_type": "code",
   "execution_count": 9,
   "metadata": {
    "id": "aLdOKqahpjmz"
   },
   "outputs": [
    {
     "name": "stdout",
     "output_type": "stream",
     "text": [
      "Rows:  28788\n",
      "Columns:  7\n"
     ]
    }
   ],
   "source": [
    "print('Rows: ', birth_control_df.shape[0])\n",
    "print('Columns: ', birth_control_df.shape[1])"
   ]
  },
  {
   "cell_type": "code",
   "execution_count": 10,
   "metadata": {},
   "outputs": [
    {
     "data": {
      "text/html": [
       "<div>\n",
       "<style scoped>\n",
       "    .dataframe tbody tr th:only-of-type {\n",
       "        vertical-align: middle;\n",
       "    }\n",
       "\n",
       "    .dataframe tbody tr th {\n",
       "        vertical-align: top;\n",
       "    }\n",
       "\n",
       "    .dataframe thead th {\n",
       "        text-align: right;\n",
       "    }\n",
       "</style>\n",
       "<table border=\"1\" class=\"dataframe\">\n",
       "  <thead>\n",
       "    <tr style=\"text-align: right;\">\n",
       "      <th></th>\n",
       "      <th>uniqueID</th>\n",
       "      <th>drugName</th>\n",
       "      <th>condition</th>\n",
       "      <th>review</th>\n",
       "      <th>rating</th>\n",
       "      <th>date</th>\n",
       "      <th>usefulCount</th>\n",
       "    </tr>\n",
       "  </thead>\n",
       "  <tbody>\n",
       "    <tr>\n",
       "      <th>2</th>\n",
       "      <td>92703</td>\n",
       "      <td>Lybrel</td>\n",
       "      <td>Birth Control</td>\n",
       "      <td>\"I used to take another oral contraceptive, wh...</td>\n",
       "      <td>5</td>\n",
       "      <td>14-Dec-09</td>\n",
       "      <td>17</td>\n",
       "    </tr>\n",
       "    <tr>\n",
       "      <th>3</th>\n",
       "      <td>138000</td>\n",
       "      <td>Ortho Evra</td>\n",
       "      <td>Birth Control</td>\n",
       "      <td>\"This is my first time using any form of birth...</td>\n",
       "      <td>8</td>\n",
       "      <td>3-Nov-15</td>\n",
       "      <td>10</td>\n",
       "    </tr>\n",
       "    <tr>\n",
       "      <th>9</th>\n",
       "      <td>48928</td>\n",
       "      <td>Ethinyl estradiol / levonorgestrel</td>\n",
       "      <td>Birth Control</td>\n",
       "      <td>\"I had been on the pill for many years. When m...</td>\n",
       "      <td>8</td>\n",
       "      <td>8-Dec-16</td>\n",
       "      <td>1</td>\n",
       "    </tr>\n",
       "    <tr>\n",
       "      <th>14</th>\n",
       "      <td>98494</td>\n",
       "      <td>Nexplanon</td>\n",
       "      <td>Birth Control</td>\n",
       "      <td>\"Started Nexplanon 2 months ago because I have...</td>\n",
       "      <td>3</td>\n",
       "      <td>7-Aug-14</td>\n",
       "      <td>10</td>\n",
       "    </tr>\n",
       "    <tr>\n",
       "      <th>22</th>\n",
       "      <td>227020</td>\n",
       "      <td>Etonogestrel</td>\n",
       "      <td>Birth Control</td>\n",
       "      <td>\"Nexplanon does its job. I can have worry free...</td>\n",
       "      <td>9</td>\n",
       "      <td>11-Aug-14</td>\n",
       "      <td>11</td>\n",
       "    </tr>\n",
       "    <tr>\n",
       "      <th>59</th>\n",
       "      <td>106703</td>\n",
       "      <td>Implanon</td>\n",
       "      <td>Birth Control</td>\n",
       "      <td>\"Never again! After being on depo I was suppos...</td>\n",
       "      <td>2</td>\n",
       "      <td>20-Aug-15</td>\n",
       "      <td>1</td>\n",
       "    </tr>\n",
       "    <tr>\n",
       "      <th>61</th>\n",
       "      <td>192806</td>\n",
       "      <td>Drospirenone / ethinyl estradiol</td>\n",
       "      <td>Birth Control</td>\n",
       "      <td>\"I was put on Yasmin for 6 months to regulate ...</td>\n",
       "      <td>3</td>\n",
       "      <td>11-Apr-11</td>\n",
       "      <td>8</td>\n",
       "    </tr>\n",
       "    <tr>\n",
       "      <th>63</th>\n",
       "      <td>107449</td>\n",
       "      <td>Implanon</td>\n",
       "      <td>Birth Control</td>\n",
       "      <td>\"I have been on this for 8 months and sad to s...</td>\n",
       "      <td>1</td>\n",
       "      <td>1-Sep-11</td>\n",
       "      <td>2</td>\n",
       "    </tr>\n",
       "    <tr>\n",
       "      <th>64</th>\n",
       "      <td>60156</td>\n",
       "      <td>NuvaRing</td>\n",
       "      <td>Birth Control</td>\n",
       "      <td>\"I was off birth control for a while consideri...</td>\n",
       "      <td>5</td>\n",
       "      <td>18-Apr-13</td>\n",
       "      <td>9</td>\n",
       "    </tr>\n",
       "    <tr>\n",
       "      <th>68</th>\n",
       "      <td>202903</td>\n",
       "      <td>Gildess Fe 1 / 20</td>\n",
       "      <td>Birth Control</td>\n",
       "      <td>\"it caused me to gain 30 pounds\"</td>\n",
       "      <td>2</td>\n",
       "      <td>21-Sep-16</td>\n",
       "      <td>2</td>\n",
       "    </tr>\n",
       "  </tbody>\n",
       "</table>\n",
       "</div>"
      ],
      "text/plain": [
       "    uniqueID                            drugName      condition  \\\n",
       "2      92703                              Lybrel  Birth Control   \n",
       "3     138000                          Ortho Evra  Birth Control   \n",
       "9      48928  Ethinyl estradiol / levonorgestrel  Birth Control   \n",
       "14     98494                           Nexplanon  Birth Control   \n",
       "22    227020                        Etonogestrel  Birth Control   \n",
       "59    106703                            Implanon  Birth Control   \n",
       "61    192806    Drospirenone / ethinyl estradiol  Birth Control   \n",
       "63    107449                            Implanon  Birth Control   \n",
       "64     60156                            NuvaRing  Birth Control   \n",
       "68    202903                   Gildess Fe 1 / 20  Birth Control   \n",
       "\n",
       "                                               review  rating       date  \\\n",
       "2   \"I used to take another oral contraceptive, wh...       5  14-Dec-09   \n",
       "3   \"This is my first time using any form of birth...       8   3-Nov-15   \n",
       "9   \"I had been on the pill for many years. When m...       8   8-Dec-16   \n",
       "14  \"Started Nexplanon 2 months ago because I have...       3   7-Aug-14   \n",
       "22  \"Nexplanon does its job. I can have worry free...       9  11-Aug-14   \n",
       "59  \"Never again! After being on depo I was suppos...       2  20-Aug-15   \n",
       "61  \"I was put on Yasmin for 6 months to regulate ...       3  11-Apr-11   \n",
       "63  \"I have been on this for 8 months and sad to s...       1   1-Sep-11   \n",
       "64  \"I was off birth control for a while consideri...       5  18-Apr-13   \n",
       "68                   \"it caused me to gain 30 pounds\"       2  21-Sep-16   \n",
       "\n",
       "    usefulCount  \n",
       "2            17  \n",
       "3            10  \n",
       "9             1  \n",
       "14           10  \n",
       "22           11  \n",
       "59            1  \n",
       "61            8  \n",
       "63            2  \n",
       "64            9  \n",
       "68            2  "
      ]
     },
     "execution_count": 10,
     "metadata": {},
     "output_type": "execute_result"
    }
   ],
   "source": [
    "birth_control_df.head(10)"
   ]
  },
  {
   "cell_type": "code",
   "execution_count": 11,
   "metadata": {},
   "outputs": [],
   "source": [
    "missing_values=birth_control_df.isnull()"
   ]
  },
  {
   "cell_type": "code",
   "execution_count": 12,
   "metadata": {},
   "outputs": [
    {
     "name": "stdout",
     "output_type": "stream",
     "text": [
      "        uniqueID  drugName  condition  review  rating   date  usefulCount\n",
      "2          False     False      False   False   False  False        False\n",
      "3          False     False      False   False   False  False        False\n",
      "9          False     False      False   False   False  False        False\n",
      "14         False     False      False   False   False  False        False\n",
      "22         False     False      False   False   False  False        False\n",
      "...          ...       ...        ...     ...     ...    ...          ...\n",
      "161268     False     False      False   False   False  False        False\n",
      "161269     False     False      False   False   False  False        False\n",
      "161271     False     False      False   False   False  False        False\n",
      "161273     False     False      False   False   False  False        False\n",
      "161291     False     False      False   False   False  False        False\n",
      "\n",
      "[28788 rows x 7 columns]\n"
     ]
    }
   ],
   "source": [
    "print(missing_values)"
   ]
  },
  {
   "cell_type": "code",
   "execution_count": 13,
   "metadata": {},
   "outputs": [
    {
     "name": "stdout",
     "output_type": "stream",
     "text": [
      "uniqueID       0\n",
      "drugName       0\n",
      "condition      0\n",
      "review         0\n",
      "rating         0\n",
      "date           0\n",
      "usefulCount    0\n",
      "dtype: int64\n"
     ]
    }
   ],
   "source": [
    "missing_values=birth_control_df.isnull().sum()\n",
    "print(missing_values)"
   ]
  },
  {
   "cell_type": "code",
   "execution_count": 14,
   "metadata": {},
   "outputs": [
    {
     "name": "stdout",
     "output_type": "stream",
     "text": [
      "                                  drugName      condition  \\\n",
      "2                                   Lybrel  Birth Control   \n",
      "3                               Ortho Evra  Birth Control   \n",
      "9       Ethinyl estradiol / levonorgestrel  Birth Control   \n",
      "14                               Nexplanon  Birth Control   \n",
      "22                            Etonogestrel  Birth Control   \n",
      "...                                    ...            ...   \n",
      "161268                              Portia  Birth Control   \n",
      "161269   Ethinyl estradiol / norethindrone  Birth Control   \n",
      "161271                              Mirena  Birth Control   \n",
      "161273                           Nexplanon  Birth Control   \n",
      "161291                      Junel 1.5 / 30  Birth Control   \n",
      "\n",
      "                                                   review  rating       date  \\\n",
      "2       \"I used to take another oral contraceptive, wh...       5  14-Dec-09   \n",
      "3       \"This is my first time using any form of birth...       8   3-Nov-15   \n",
      "9       \"I had been on the pill for many years. When m...       8   8-Dec-16   \n",
      "14      \"Started Nexplanon 2 months ago because I have...       3   7-Aug-14   \n",
      "22      \"Nexplanon does its job. I can have worry free...       9  11-Aug-14   \n",
      "...                                                   ...     ...        ...   \n",
      "161268  \"I switched to Portia 12 days ago when I start...       1  28-Jan-14   \n",
      "161269  \"When I first starting taking Lo Loestrin Fe, ...      10  20-Apr-15   \n",
      "161271  \"My experience: Painful insertion but I expect...      10  26-Jan-16   \n",
      "161273  \"I have had the Nexplanon since Dec. 27, 2016 ...       6   6-Apr-17   \n",
      "161291  \"This would be my second month on Junel. I&#03...       6  27-May-15   \n",
      "\n",
      "        usefulCount  \n",
      "2                17  \n",
      "3                10  \n",
      "9                 1  \n",
      "14               10  \n",
      "22               11  \n",
      "...             ...  \n",
      "161268            9  \n",
      "161269           13  \n",
      "161271            4  \n",
      "161273            0  \n",
      "161291            0  \n",
      "\n",
      "[28788 rows x 6 columns]\n"
     ]
    }
   ],
   "source": [
    "birth_control_df=birth_control_df.drop('uniqueID', axis=1)\n",
    "print(birth_control_df)"
   ]
  },
  {
   "cell_type": "code",
   "execution_count": 15,
   "metadata": {},
   "outputs": [],
   "source": [
    "df=pd.DataFrame(birth_control_df)"
   ]
  },
  {
   "cell_type": "code",
   "execution_count": 16,
   "metadata": {},
   "outputs": [],
   "source": [
    "popular_drugs=df['drugName'].value_counts()"
   ]
  },
  {
   "cell_type": "code",
   "execution_count": 17,
   "metadata": {},
   "outputs": [
    {
     "name": "stdout",
     "output_type": "stream",
     "text": [
      "Most popular drugs in this birth control subset are:\n",
      "drugName\n",
      "Etonogestrel                          3314\n",
      "Ethinyl estradiol / norethindrone     2337\n",
      "Nexplanon                             2149\n",
      "Levonorgestrel                        2129\n",
      "Ethinyl estradiol / levonorgestrel    1600\n",
      "                                      ... \n",
      "Necon 7 / 7 / 7                          1\n",
      "depo-subQ provera 104                    1\n",
      "Loestrin 21 1.5 / 30                     1\n",
      "Pirmella 1 / 35                          1\n",
      "Amethyst                                 1\n",
      "Name: count, Length: 172, dtype: int64\n"
     ]
    }
   ],
   "source": [
    "print('Most popular drugs in this birth control subset are:')\n",
    "print(popular_drugs) #Natalia's work useful here."
   ]
  },
  {
   "cell_type": "code",
   "execution_count": 18,
   "metadata": {},
   "outputs": [
    {
     "data": {
      "text/plain": [
       "172"
      ]
     },
     "execution_count": 18,
     "metadata": {},
     "output_type": "execute_result"
    }
   ],
   "source": [
    "popular_drugs.count() #There are 172 drugs in this subset"
   ]
  },
  {
   "cell_type": "code",
   "execution_count": 19,
   "metadata": {},
   "outputs": [
    {
     "data": {
      "text/plain": [
       "2     \"I used to take another oral contraceptive, wh...\n",
       "3     \"This is my first time using any form of birth...\n",
       "9     \"I had been on the pill for many years. When m...\n",
       "14    \"Started Nexplanon 2 months ago because I have...\n",
       "22    \"Nexplanon does its job. I can have worry free...\n",
       "Name: review, dtype: object"
      ]
     },
     "execution_count": 19,
     "metadata": {},
     "output_type": "execute_result"
    }
   ],
   "source": [
    "birth_control_df['review'].head(5)"
   ]
  },
  {
   "cell_type": "code",
   "execution_count": 20,
   "metadata": {},
   "outputs": [
    {
     "name": "stderr",
     "output_type": "stream",
     "text": [
      "[nltk_data] Downloading package punkt to /Users/sunuber/nltk_data...\n",
      "[nltk_data]   Package punkt is already up-to-date!\n",
      "[nltk_data] Downloading package stopwords to\n",
      "[nltk_data]     /Users/sunuber/nltk_data...\n",
      "[nltk_data]   Package stopwords is already up-to-date!\n"
     ]
    },
    {
     "data": {
      "text/plain": [
       "True"
      ]
     },
     "execution_count": 20,
     "metadata": {},
     "output_type": "execute_result"
    }
   ],
   "source": [
    "import nltk\n",
    "from nltk.corpus import stopwords\n",
    "from nltk.tokenize import word_tokenize\n",
    "nltk.download('punkt')\n",
    "nltk.download('stopwords')\n",
    "\n",
    "#remove stopwords and random lettering"
   ]
  },
  {
   "cell_type": "code",
   "execution_count": 21,
   "metadata": {},
   "outputs": [],
   "source": [
    "df=pd.DataFrame(birth_control_df)"
   ]
  },
  {
   "cell_type": "code",
   "execution_count": 22,
   "metadata": {},
   "outputs": [],
   "source": [
    "review_column=df['review']"
   ]
  },
  {
   "cell_type": "code",
   "execution_count": 23,
   "metadata": {},
   "outputs": [
    {
     "name": "stdout",
     "output_type": "stream",
     "text": [
      "2         \"I used to take another oral contraceptive, wh...\n",
      "3         \"This is my first time using any form of birth...\n",
      "9         \"I had been on the pill for many years. When m...\n",
      "14        \"Started Nexplanon 2 months ago because I have...\n",
      "22        \"Nexplanon does its job. I can have worry free...\n",
      "                                ...                        \n",
      "161268    \"I switched to Portia 12 days ago when I start...\n",
      "161269    \"When I first starting taking Lo Loestrin Fe, ...\n",
      "161271    \"My experience: Painful insertion but I expect...\n",
      "161273    \"I have had the Nexplanon since Dec. 27, 2016 ...\n",
      "161291    \"This would be my second month on Junel. I&#03...\n",
      "Name: review, Length: 28788, dtype: object\n"
     ]
    }
   ],
   "source": [
    "print(review_column)"
   ]
  },
  {
   "cell_type": "code",
   "execution_count": 56,
   "metadata": {},
   "outputs": [],
   "source": [
    "words=word_tokenize(review_column.iloc[0])"
   ]
  },
  {
   "cell_type": "code",
   "execution_count": 25,
   "metadata": {},
   "outputs": [
    {
     "name": "stdout",
     "output_type": "stream",
     "text": [
      "\"My experience during the nexplon is great not a pregnancy yet.  My only issue is it causes me too much bleeding. I get my periods from every other week up to 1 month up to 3 month . And it ruins My sex life\"\n"
     ]
    }
   ],
   "source": [
    "print(review_column.iloc[10])"
   ]
  },
  {
   "cell_type": "code",
   "execution_count": 26,
   "metadata": {},
   "outputs": [
    {
     "name": "stdout",
     "output_type": "stream",
     "text": [
      "2     \"I used to take another oral contraceptive, wh...\n",
      "3     \"This is my first time using any form of birth...\n",
      "9     \"I had been on the pill for many years. When m...\n",
      "14    \"Started Nexplanon 2 months ago because I have...\n",
      "22    \"Nexplanon does its job. I can have worry free...\n",
      "59    \"Never again! After being on depo I was suppos...\n",
      "61    \"I was put on Yasmin for 6 months to regulate ...\n",
      "63    \"I have been on this for 8 months and sad to s...\n",
      "64    \"I was off birth control for a while consideri...\n",
      "68                     \"it caused me to gain 30 pounds\"\n",
      "Name: review, dtype: object\n"
     ]
    }
   ],
   "source": [
    "print(review_column.iloc[:10])"
   ]
  },
  {
   "cell_type": "code",
   "execution_count": 27,
   "metadata": {},
   "outputs": [
    {
     "name": "stdout",
     "output_type": "stream",
     "text": [
      "\"I used to take another oral contraceptive, which had 21 pill cycle, and was very happy- very light periods, max 5 days, no other side effects. But it contained hormone gestodene, which is not available in US, so I switched to Lybrel, because the ingredients are similar. When my other pills ended, I started Lybrel immediately, on my first day of period, as the instructions said. And the period lasted for two weeks. When taking the second pack- same two weeks. And now, with third pack things got even worse- my third period lasted for two weeks and now it&#039;s the end of the third week- I still have daily brown discharge.\n",
      "The positive side is that I didn&#039;t have any other side effects. The idea of being period free was so tempting... Alas.\"\n"
     ]
    }
   ],
   "source": [
    "print(review_column.iloc[0])"
   ]
  },
  {
   "cell_type": "code",
   "execution_count": 28,
   "metadata": {},
   "outputs": [
    {
     "name": "stdout",
     "output_type": "stream",
     "text": [
      "\"This is my first time using any form of birth control. I&#039;m glad I went with the patch, I have been on it for 8 months. At first It decreased my libido but that subsided. The only downside is that it made my periods longer (5-6 days to be exact) I used to only have periods for 3-4 days max also made my cramps intense for the first two days of my period, I never had cramps before using birth control. Other than that in happy with the patch\"\n"
     ]
    }
   ],
   "source": [
    "print(review_column.iloc[1])"
   ]
  },
  {
   "cell_type": "code",
   "execution_count": 29,
   "metadata": {},
   "outputs": [
    {
     "name": "stdout",
     "output_type": "stream",
     "text": [
      "\"I had been on the pill for many years. When my doctor changed my RX to chateal, it was as effective. It really did help me by completely clearing my acne, this takes about 6 months though. I did not gain extra weight, or develop any emotional health issues. I stopped taking it bc I started using a more natural method of birth control, but started to take it bc I hate that my acne came back at age 28. I really hope symptoms like depression, or weight gain do not begin to affect me as I am older now. I&#039;m also naturally moody, so this may worsen things. I was in a negative mental rut today. Also I hope this doesn&#039;t push me over the edge, as I believe I am depressed. Hopefully it&#039;ll be just like when I was younger.\"\n"
     ]
    }
   ],
   "source": [
    "print(review_column.iloc[2])"
   ]
  },
  {
   "cell_type": "code",
   "execution_count": 30,
   "metadata": {},
   "outputs": [
    {
     "name": "stdout",
     "output_type": "stream",
     "text": [
      "\"Started Nexplanon 2 months ago because I have a minimal amount of contraception&#039;s I can take due to my inability to take the hormone that is used in most birth controls. I&#039;m trying to give it time because it is one of my only options right now. But honestly if I had options I&#039;d get it removed.\n",
      "I&#039;ve never had acne problems in my life, and immediately broke out after getting it implanted. Sex drive is completely gone, and I used to have sex with my boyfriend a few days a week, now its completely forced and not even fun for me anymore. I mean I&#039;m on birth control because I like having sex but don&#039;t want to get pregnant, why take a birth control that takes away sex? Very unhappy and hope that I get it back with time or I&#039;m getting it removed.\"\n"
     ]
    }
   ],
   "source": [
    "print(review_column.iloc[3])"
   ]
  },
  {
   "cell_type": "code",
   "execution_count": 31,
   "metadata": {},
   "outputs": [
    {
     "name": "stdout",
     "output_type": "stream",
     "text": [
      "\"Nexplanon does its job. I can have worry free sex. The only thing is that my periods are sometimes light and sometimes heavy. Sometimes they go away and sometimes they show up unexpected. I also feel somewhat depressed. Not sure if its Nexplanon or not. I&#039;ve had Nexplanont for about 2 months now, but despite the side effects its the most effective birth control I&#039;ve ever used and I do not plan on taking it out.\"\n"
     ]
    }
   ],
   "source": [
    "print(review_column.iloc[4])"
   ]
  },
  {
   "cell_type": "code",
   "execution_count": 32,
   "metadata": {},
   "outputs": [
    {
     "name": "stdout",
     "output_type": "stream",
     "text": [
      "\"Never again! After being on depo I was suppose to b an ideal candidate the first 6 months was ok bit moody but fine no weight gain but then something changed I was constantly bleeding and getting horrible hormone spots I normally have clear skin mood swings were increasing. After 14 months I decided to have it taken out and that was an ordeal they can b very tricky for the doc remove. So 3 anesthetics and a few stitches later its out. It&#039;s simply not worth the hassle\"\n"
     ]
    }
   ],
   "source": [
    "print(review_column.iloc[5])"
   ]
  },
  {
   "cell_type": "code",
   "execution_count": 33,
   "metadata": {},
   "outputs": [
    {
     "name": "stdout",
     "output_type": "stream",
     "text": [
      "\"I was put on Yasmin for 6 months to regulate my cycle and reduce acne flare-ups and it was the worst 6 months of my life. I gained 20lbs that did NOT come off easily after stopping the pill, experienced horrible mood swings, had HEAVIER periods, acne breakouts, breakthrough bleeding, and I was nauseous all the time. This pill seems to agree with most people but it definitely did not agree with me. I went on Femcon a year after stopping Yasmin and experienced virtually no side effects.\"\n"
     ]
    }
   ],
   "source": [
    "print(review_column.iloc[6])"
   ]
  },
  {
   "cell_type": "code",
   "execution_count": 34,
   "metadata": {},
   "outputs": [
    {
     "name": "stdout",
     "output_type": "stream",
     "text": [
      "\"I have been on this for 8 months and sad to say it&#039;s caused nothing but my self esteem to become lower. I&#039;ve gained 10 lbs out of no where. I&#039;m only 22 and have a fast metabolism. I thought it started to slow down but it didn&#039;t make sense. My breasts got smaller, I have lost complete sex drive, my breasts aren&#039;t sensitive anymore at all like they used to be and I&#039;m so emotional, even crying at times. The only thing I can say is that it is 100% effective but not worth what it has done to my body. Not only that but I started breaking out on my body and on my face as well.\"\n"
     ]
    }
   ],
   "source": [
    "print(review_column.iloc[7])"
   ]
  },
  {
   "cell_type": "code",
   "execution_count": 35,
   "metadata": {},
   "outputs": [
    {
     "name": "stdout",
     "output_type": "stream",
     "text": [
      "\"I was off birth control for a while considering getting pregnant. I had used other types of birth control before, the pill, the patch, etc. I decided to get back on birth control but didn&#039;t want to worry about taking a daily pill so I requested the Nuvaring. When I started the Nuvaring I felt it inside my body and had a lot of cramps. A few days later I started experiencing more cramps and very strong upper stomach pain. They were so bad I missed work for a week. Finally I ended up going to the ER and they couldn&#039;t figure out what was wrong. I finally asked the doctor and it was the Nuvaring side effects.\"\n"
     ]
    }
   ],
   "source": [
    "print(review_column.iloc[8])"
   ]
  },
  {
   "cell_type": "code",
   "execution_count": 36,
   "metadata": {},
   "outputs": [
    {
     "name": "stdout",
     "output_type": "stream",
     "text": [
      "\"it caused me to gain 30 pounds\"\n"
     ]
    }
   ],
   "source": [
    "print(review_column.iloc[9])"
   ]
  },
  {
   "cell_type": "code",
   "execution_count": 37,
   "metadata": {},
   "outputs": [
    {
     "name": "stdout",
     "output_type": "stream",
     "text": [
      "\"My experience during the nexplon is great not a pregnancy yet.  My only issue is it causes me too much bleeding. I get my periods from every other week up to 1 month up to 3 month . And it ruins My sex life\"\n"
     ]
    }
   ],
   "source": [
    "print(review_column.iloc[10])"
   ]
  },
  {
   "cell_type": "markdown",
   "metadata": {},
   "source": [
    "We see the following in the slection of the first ten reviews:\n",
    "\n",
    "1. use of informal language, often missing punctuation and basic rules of grammar.\n",
    "2. use of words that aren't 'real' words in an English dictionary\n",
    "3. artifacts like '&#039;t'\n",
    "4. the pooling of a review which isnt of a person taking birth control. Review 6, is of somebody taking a combination oral contraceptive for management of their acne and irregular menstrual; cycle - thus clinical indication is polycystic ovarian syndrome.\n",
    "5. comparison with another drug.\n",
    "6. candid reviews - reasons for not liking their current medication.\n",
    "\n",
    "Ideally we must identify entitties - of medical terms for which we can perform tokenization to extract tri, even quadgrams from the corpus of reviews."
   ]
  },
  {
   "cell_type": "code",
   "execution_count": 38,
   "metadata": {},
   "outputs": [
    {
     "name": "stdout",
     "output_type": "stream",
     "text": [
      "['``', 'I', 'used', 'to', 'take', 'another', 'oral', 'contraceptive', ',', 'which', 'had', '21', 'pill', 'cycle', ',', 'and', 'was', 'very', 'happy-', 'very', 'light', 'periods', ',', 'max', '5', 'days', ',', 'no', 'other', 'side', 'effects', '.', 'But', 'it', 'contained', 'hormone', 'gestodene', ',', 'which', 'is', 'not', 'available', 'in', 'US', ',', 'so', 'I', 'switched', 'to', 'Lybrel', ',', 'because', 'the', 'ingredients', 'are', 'similar', '.', 'When', 'my', 'other', 'pills', 'ended', ',', 'I', 'started', 'Lybrel', 'immediately', ',', 'on', 'my', 'first', 'day', 'of', 'period', ',', 'as', 'the', 'instructions', 'said', '.', 'And', 'the', 'period', 'lasted', 'for', 'two', 'weeks', '.', 'When', 'taking', 'the', 'second', 'pack-', 'same', 'two', 'weeks', '.', 'And', 'now', ',', 'with', 'third', 'pack', 'things', 'got', 'even', 'worse-', 'my', 'third', 'period', 'lasted', 'for', 'two', 'weeks', 'and', 'now', 'it', '&', '#', '039', ';', 's', 'the', 'end', 'of', 'the', 'third', 'week-', 'I', 'still', 'have', 'daily', 'brown', 'discharge', '.', 'The', 'positive', 'side', 'is', 'that', 'I', 'didn', '&', '#', '039', ';', 't', 'have', 'any', 'other', 'side', 'effects', '.', 'The', 'idea', 'of', 'being', 'period', 'free', 'was', 'so', 'tempting', '...', 'Alas', '.', \"''\"]\n"
     ]
    }
   ],
   "source": [
    "print(words)\n",
    "#want tri/quad grams searching for terms like:\n",
    "# 1. period, menarche, bleed, bleeding, my cycle\n",
    "# 2. loss of interest, low libido, no sex, do not like it, urge\n",
    "# 3. I prefer it, great, fantastic, \n",
    "# 4. "
   ]
  },
  {
   "cell_type": "code",
   "execution_count": 39,
   "metadata": {},
   "outputs": [
    {
     "data": {
      "text/plain": [
       "2         [``, I, used, to, take, another, oral, contrac...\n",
       "3         [``, This, is, my, first, time, using, any, fo...\n",
       "9         [``, I, had, been, on, the, pill, for, many, y...\n",
       "14        [``, Started, Nexplanon, 2, months, ago, becau...\n",
       "22        [``, Nexplanon, does, its, job, ., I, can, hav...\n",
       "                                ...                        \n",
       "161268    [``, I, switched, to, Portia, 12, days, ago, w...\n",
       "161269    [``, When, I, first, starting, taking, Lo, Loe...\n",
       "161271    [``, My, experience, :, Painful, insertion, bu...\n",
       "161273    [``, I, have, had, the, Nexplanon, since, Dec....\n",
       "161291    [``, This, would, be, my, second, month, on, J...\n",
       "Name: review, Length: 28788, dtype: object"
      ]
     },
     "execution_count": 39,
     "metadata": {},
     "output_type": "execute_result"
    }
   ],
   "source": [
    "df['review'].apply(word_tokenize)"
   ]
  },
  {
   "cell_type": "code",
   "execution_count": 58,
   "metadata": {},
   "outputs": [
    {
     "name": "stdout",
     "output_type": "stream",
     "text": [
      "original reviews:\n",
      "2         \"I used to take another oral contraceptive, wh...\n",
      "3         \"This is my first time using any form of birth...\n",
      "9         \"I had been on the pill for many years. When m...\n",
      "14        \"Started Nexplanon 2 months ago because I have...\n",
      "22        \"Nexplanon does its job. I can have worry free...\n",
      "                                ...                        \n",
      "161268    \"I switched to Portia 12 days ago when I start...\n",
      "161269    \"When I first starting taking Lo Loestrin Fe, ...\n",
      "161271    \"My experience: Painful insertion but I expect...\n",
      "161273    \"I have had the Nexplanon since Dec. 27, 2016 ...\n",
      "161291    \"This would be my second month on Junel. I&#03...\n",
      "Name: review, Length: 28788, dtype: object\n"
     ]
    },
    {
     "name": "stderr",
     "output_type": "stream",
     "text": [
      "[nltk_data] Downloading package punkt to /Users/sunuber/nltk_data...\n",
      "[nltk_data]   Package punkt is already up-to-date!\n"
     ]
    }
   ],
   "source": [
    "from nltk.tokenize import word_tokenize\n",
    "\n",
    "nltk.download('punkt')\n",
    "\n",
    "data={'review'}\n",
    "df=pd.DataFrame(review_column)\n",
    "\n",
    "review_column=df['review']\n",
    "\n",
    "print(\"original reviews:\")\n",
    "print(review_column)"
   ]
  },
  {
   "cell_type": "code",
   "execution_count": 60,
   "metadata": {},
   "outputs": [
    {
     "name": "stdout",
     "output_type": "stream",
     "text": [
      "\n",
      "Tokenized Reviews:\n",
      "2         [``, I, used, to, take, another, oral, contrac...\n",
      "3         [``, This, is, my, first, time, using, any, fo...\n",
      "9         [``, I, had, been, on, the, pill, for, many, y...\n",
      "14        [``, Started, Nexplanon, 2, months, ago, becau...\n",
      "22        [``, Nexplanon, does, its, job, ., I, can, hav...\n",
      "                                ...                        \n",
      "161268    [``, I, switched, to, Portia, 12, days, ago, w...\n",
      "161269    [``, When, I, first, starting, taking, Lo, Loe...\n",
      "161271    [``, My, experience, :, Painful, insertion, bu...\n",
      "161273    [``, I, have, had, the, Nexplanon, since, Dec....\n",
      "161291    [``, This, would, be, my, second, month, on, J...\n",
      "Name: tokenized_reviews, Length: 28788, dtype: object\n"
     ]
    }
   ],
   "source": [
    "def tokenize_reviews(reviews):\n",
    "    return[word_tokenize(review) for review in reviews]\n",
    "\n",
    "df['tokenized_reviews']=tokenize_reviews(review_column)\n",
    "\n",
    "print(\"\\nTokenized Reviews:\")\n",
    "print(df['tokenized_reviews'])"
   ]
  },
  {
   "cell_type": "code",
   "execution_count": 49,
   "metadata": {},
   "outputs": [
    {
     "name": "stdout",
     "output_type": "stream",
     "text": [
      "2         \"I used to take another oral contraceptive, wh...\n",
      "3         \"This is my first time using any form of birth...\n",
      "9         \"I had been on the pill for many years. When m...\n",
      "14        \"Started Nexplanon 2 months ago because I have...\n",
      "22        \"Nexplanon does its job. I can have worry free...\n",
      "                                ...                        \n",
      "161268    \"I switched to Portia 12 days ago when I start...\n",
      "161269    \"When I first starting taking Lo Loestrin Fe, ...\n",
      "161271    \"My experience: Painful insertion but I expect...\n",
      "161273    \"I have had the Nexplanon since Dec. 27, 2016 ...\n",
      "161291    \"This would be my second month on Junel. I&#03...\n",
      "Name: review, Length: 28788, dtype: object\n"
     ]
    }
   ],
   "source": [
    "print(review_column)"
   ]
  },
  {
   "cell_type": "code",
   "execution_count": 65,
   "metadata": {},
   "outputs": [],
   "source": [
    "def get_bigrams(tokenize_reviews):\n",
    "    tokens=word_tokenize(tokenize_reviews)\n",
    "    bigrams=list(ngrams(tokens, 2))\n",
    "    return bigrams"
   ]
  },
  {
   "cell_type": "code",
   "execution_count": 64,
   "metadata": {},
   "outputs": [
    {
     "ename": "NameError",
     "evalue": "name 'tokenized_reviews' is not defined",
     "output_type": "error",
     "traceback": [
      "\u001b[0;31m---------------------------------------------------------------------------\u001b[0m",
      "\u001b[0;31mNameError\u001b[0m                                 Traceback (most recent call last)",
      "Cell \u001b[0;32mIn[64], line 1\u001b[0m\n\u001b[0;32m----> 1\u001b[0m bigrams\u001b[38;5;241m=\u001b[39mget_bigrams(tokenized_reviews)\n\u001b[1;32m      2\u001b[0m \u001b[38;5;28mprint\u001b[39m(\u001b[38;5;124m\"\u001b[39m\u001b[38;5;124mBigrams:\u001b[39m\u001b[38;5;124m\"\u001b[39m)\n\u001b[1;32m      3\u001b[0m \u001b[38;5;28;01mfor\u001b[39;00m bigram \u001b[38;5;129;01min\u001b[39;00m bigrams:\n",
      "\u001b[0;31mNameError\u001b[0m: name 'tokenized_reviews' is not defined"
     ]
    }
   ],
   "source": [
    "bigrams=get_bigrams(tokenized_reviews)\n",
    "print(\"Bigrams:\")\n",
    "for bigram in bigrams:\n",
    "    print(bigram)"
   ]
  },
  {
   "cell_type": "markdown",
   "metadata": {},
   "source": [
    "#look for side efefct bigrams\n",
    "including:\n",
    "1. weight gain\n",
    "2. no sex\n",
    "3. adult acne\n",
    "4. heavy bleeding\n",
    "5. light bleeding\n",
    "6. changed bleeding\n",
    "\n",
    "patient signs as bigrams:\n",
    "1. missed dose\n",
    "2. severe cramps\n",
    "3. stomach cramps\n",
    "4. hospital visit, ER visit\n",
    "5. pain  relief\n",
    "6. improved symptoms\n",
    "7. regular cycle\n",
    "8. \n"
   ]
  }
 ],
 "metadata": {
  "colab": {
   "include_colab_link": true,
   "provenance": []
  },
  "kernelspec": {
   "display_name": "Python 3 (ipykernel)",
   "language": "python",
   "name": "python3"
  },
  "language_info": {
   "codemirror_mode": {
    "name": "ipython",
    "version": 3
   },
   "file_extension": ".py",
   "mimetype": "text/x-python",
   "name": "python",
   "nbconvert_exporter": "python",
   "pygments_lexer": "ipython3",
   "version": "3.11.7"
  }
 },
 "nbformat": 4,
 "nbformat_minor": 4
}
