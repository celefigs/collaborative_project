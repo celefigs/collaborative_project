{
 "cells": [
  {
   "cell_type": "code",
   "execution_count": 1,
   "id": "c8e13b74-a330-4e2e-8b75-c51d358dd892",
   "metadata": {},
   "outputs": [],
   "source": [
    "#loading my libraries - commenting out what I won't find useful for this excercise\n",
    "\n",
    "import nltk\n",
    "import numpy as np\n",
    "import pandas as pd\n",
    "from nltk.corpus import stopwords\n",
    "\n",
    "from nltk.stem import WordNetLemmatizer\n",
    "from nltk.tokenize import RegexpTokenizer\n",
    "from sklearn.model_selection import train_test_splitb\n",
    "\n",
    "#from sklearn.model_selection import cross_val_score, cross_val_predict, GridSearchCV\n",
    "\n",
    "from sklearn.feature_extraction.text import TfidfVectorizer\n",
    "# from sklearn.linear_model import SGDClassifier\n",
    "# from sklearn.pipeline import Pipeline\n",
    "#from sklearn.metrics import confusion_matrix, accuracy_score"
   ]
  },
  {
   "cell_type": "code",
   "execution_count": 2,
   "id": "7cf8fff6-9b2d-4ed2-a36d-18b7800af922",
   "metadata": {},
   "outputs": [],
   "source": [
    "data = pd.read_csv(\"../../data/final_data.csv\")"
   ]
  },
  {
   "cell_type": "code",
   "execution_count": 4,
   "id": "77f66e45-c580-404b-b20a-aecbb93abc31",
   "metadata": {},
   "outputs": [],
   "source": [
    "data = data.drop(columns = [\"Unnamed: 0\"])"
   ]
  },
  {
   "cell_type": "code",
   "execution_count": 5,
   "id": "18956655-7ac6-4806-af15-6189a8aac4c2",
   "metadata": {},
   "outputs": [
    {
     "data": {
      "text/html": [
       "<div>\n",
       "<style scoped>\n",
       "    .dataframe tbody tr th:only-of-type {\n",
       "        vertical-align: middle;\n",
       "    }\n",
       "\n",
       "    .dataframe tbody tr th {\n",
       "        vertical-align: top;\n",
       "    }\n",
       "\n",
       "    .dataframe thead th {\n",
       "        text-align: right;\n",
       "    }\n",
       "</style>\n",
       "<table border=\"1\" class=\"dataframe\">\n",
       "  <thead>\n",
       "    <tr style=\"text-align: right;\">\n",
       "      <th></th>\n",
       "      <th>provided_drug_name</th>\n",
       "      <th>condition</th>\n",
       "      <th>review</th>\n",
       "      <th>rating</th>\n",
       "      <th>date</th>\n",
       "      <th>usefulCount</th>\n",
       "      <th>matched_generic_name</th>\n",
       "      <th>matched_type</th>\n",
       "    </tr>\n",
       "  </thead>\n",
       "  <tbody>\n",
       "    <tr>\n",
       "      <th>0</th>\n",
       "      <td>Lybrel</td>\n",
       "      <td>Birth Control</td>\n",
       "      <td>\"I used to take another oral contraceptive, wh...</td>\n",
       "      <td>5</td>\n",
       "      <td>14-Dec-09</td>\n",
       "      <td>17</td>\n",
       "      <td>NaN</td>\n",
       "      <td>NaN</td>\n",
       "    </tr>\n",
       "    <tr>\n",
       "      <th>1</th>\n",
       "      <td>Ortho Evra</td>\n",
       "      <td>Birth Control</td>\n",
       "      <td>\"This is my first time using any form of birth...</td>\n",
       "      <td>8</td>\n",
       "      <td>3-Nov-15</td>\n",
       "      <td>10</td>\n",
       "      <td>NaN</td>\n",
       "      <td>NaN</td>\n",
       "    </tr>\n",
       "    <tr>\n",
       "      <th>2</th>\n",
       "      <td>Levonorgestrel</td>\n",
       "      <td>Emergency Contraception</td>\n",
       "      <td>\"He pulled out, but he cummed a bit in me. I t...</td>\n",
       "      <td>1</td>\n",
       "      <td>7-Mar-17</td>\n",
       "      <td>5</td>\n",
       "      <td>levonorgestrel</td>\n",
       "      <td>emergency</td>\n",
       "    </tr>\n",
       "    <tr>\n",
       "      <th>3</th>\n",
       "      <td>Ethinyl estradiol / levonorgestrel</td>\n",
       "      <td>Birth Control</td>\n",
       "      <td>\"I had been on the pill for many years. When m...</td>\n",
       "      <td>8</td>\n",
       "      <td>8-Dec-16</td>\n",
       "      <td>1</td>\n",
       "      <td>ethinyl estradiol / norethindrone</td>\n",
       "      <td>standard</td>\n",
       "    </tr>\n",
       "    <tr>\n",
       "      <th>4</th>\n",
       "      <td>Nexplanon</td>\n",
       "      <td>Birth Control</td>\n",
       "      <td>\"Started Nexplanon 2 months ago because I have...</td>\n",
       "      <td>3</td>\n",
       "      <td>7-Aug-14</td>\n",
       "      <td>10</td>\n",
       "      <td>etonogestrel</td>\n",
       "      <td>standard</td>\n",
       "    </tr>\n",
       "    <tr>\n",
       "      <th>...</th>\n",
       "      <td>...</td>\n",
       "      <td>...</td>\n",
       "      <td>...</td>\n",
       "      <td>...</td>\n",
       "      <td>...</td>\n",
       "      <td>...</td>\n",
       "      <td>...</td>\n",
       "      <td>...</td>\n",
       "    </tr>\n",
       "    <tr>\n",
       "      <th>31246</th>\n",
       "      <td>Portia</td>\n",
       "      <td>Birth Control</td>\n",
       "      <td>\"I switched to Portia 12 days ago when I start...</td>\n",
       "      <td>1</td>\n",
       "      <td>28-Jan-14</td>\n",
       "      <td>9</td>\n",
       "      <td>ethinyl estradiol / levonorgestrel</td>\n",
       "      <td>standard</td>\n",
       "    </tr>\n",
       "    <tr>\n",
       "      <th>31247</th>\n",
       "      <td>Ethinyl estradiol / norethindrone</td>\n",
       "      <td>Birth Control</td>\n",
       "      <td>\"When I first starting taking Lo Loestrin Fe, ...</td>\n",
       "      <td>10</td>\n",
       "      <td>20-Apr-15</td>\n",
       "      <td>13</td>\n",
       "      <td>ethinyl estradiol / norethindrone</td>\n",
       "      <td>standard</td>\n",
       "    </tr>\n",
       "    <tr>\n",
       "      <th>31248</th>\n",
       "      <td>Mirena</td>\n",
       "      <td>Birth Control</td>\n",
       "      <td>\"My experience: Painful insertion but I expect...</td>\n",
       "      <td>10</td>\n",
       "      <td>26-Jan-16</td>\n",
       "      <td>4</td>\n",
       "      <td>levonorgestrel</td>\n",
       "      <td>standard</td>\n",
       "    </tr>\n",
       "    <tr>\n",
       "      <th>31249</th>\n",
       "      <td>Nexplanon</td>\n",
       "      <td>Birth Control</td>\n",
       "      <td>\"I have had the Nexplanon since Dec. 27, 2016 ...</td>\n",
       "      <td>6</td>\n",
       "      <td>6-Apr-17</td>\n",
       "      <td>0</td>\n",
       "      <td>etonogestrel</td>\n",
       "      <td>standard</td>\n",
       "    </tr>\n",
       "    <tr>\n",
       "      <th>31250</th>\n",
       "      <td>Junel 1.5 / 30</td>\n",
       "      <td>Birth Control</td>\n",
       "      <td>\"This would be my second month on Junel. I&amp;#03...</td>\n",
       "      <td>6</td>\n",
       "      <td>27-May-15</td>\n",
       "      <td>0</td>\n",
       "      <td>ethinyl estradiol / norethindrone</td>\n",
       "      <td>standard</td>\n",
       "    </tr>\n",
       "  </tbody>\n",
       "</table>\n",
       "<p>31251 rows × 8 columns</p>\n",
       "</div>"
      ],
      "text/plain": [
       "                       provided_drug_name                condition  \\\n",
       "0                                  Lybrel            Birth Control   \n",
       "1                              Ortho Evra            Birth Control   \n",
       "2                          Levonorgestrel  Emergency Contraception   \n",
       "3      Ethinyl estradiol / levonorgestrel            Birth Control   \n",
       "4                               Nexplanon            Birth Control   \n",
       "...                                   ...                      ...   \n",
       "31246                              Portia            Birth Control   \n",
       "31247   Ethinyl estradiol / norethindrone            Birth Control   \n",
       "31248                              Mirena            Birth Control   \n",
       "31249                           Nexplanon            Birth Control   \n",
       "31250                      Junel 1.5 / 30            Birth Control   \n",
       "\n",
       "                                                  review  rating       date  \\\n",
       "0      \"I used to take another oral contraceptive, wh...       5  14-Dec-09   \n",
       "1      \"This is my first time using any form of birth...       8   3-Nov-15   \n",
       "2      \"He pulled out, but he cummed a bit in me. I t...       1   7-Mar-17   \n",
       "3      \"I had been on the pill for many years. When m...       8   8-Dec-16   \n",
       "4      \"Started Nexplanon 2 months ago because I have...       3   7-Aug-14   \n",
       "...                                                  ...     ...        ...   \n",
       "31246  \"I switched to Portia 12 days ago when I start...       1  28-Jan-14   \n",
       "31247  \"When I first starting taking Lo Loestrin Fe, ...      10  20-Apr-15   \n",
       "31248  \"My experience: Painful insertion but I expect...      10  26-Jan-16   \n",
       "31249  \"I have had the Nexplanon since Dec. 27, 2016 ...       6   6-Apr-17   \n",
       "31250  \"This would be my second month on Junel. I&#03...       6  27-May-15   \n",
       "\n",
       "       usefulCount                matched_generic_name matched_type  \n",
       "0               17                                 NaN          NaN  \n",
       "1               10                                 NaN          NaN  \n",
       "2                5                      levonorgestrel    emergency  \n",
       "3                1   ethinyl estradiol / norethindrone     standard  \n",
       "4               10                        etonogestrel     standard  \n",
       "...            ...                                 ...          ...  \n",
       "31246            9  ethinyl estradiol / levonorgestrel     standard  \n",
       "31247           13   ethinyl estradiol / norethindrone     standard  \n",
       "31248            4                      levonorgestrel     standard  \n",
       "31249            0                        etonogestrel     standard  \n",
       "31250            0   ethinyl estradiol / norethindrone     standard  \n",
       "\n",
       "[31251 rows x 8 columns]"
      ]
     },
     "execution_count": 5,
     "metadata": {},
     "output_type": "execute_result"
    }
   ],
   "source": [
    "data"
   ]
  },
  {
   "cell_type": "code",
   "execution_count": null,
   "id": "39a42e2f-3696-40fd-8c9e-1de877c36221",
   "metadata": {},
   "outputs": [],
   "source": [
    "#double checking if there are any nulls in other columns than \"matched_generic_name\" or\t\"matched_type\""
   ]
  },
  {
   "cell_type": "code",
   "execution_count": 6,
   "id": "a40bb9b3-ec07-4bc4-8787-755a00554bd3",
   "metadata": {},
   "outputs": [
    {
     "data": {
      "text/plain": [
       "provided_drug_name         0\n",
       "condition                  0\n",
       "review                     0\n",
       "rating                     0\n",
       "date                       0\n",
       "usefulCount                0\n",
       "matched_generic_name    1840\n",
       "matched_type            1840\n",
       "dtype: int64"
      ]
     },
     "execution_count": 6,
     "metadata": {},
     "output_type": "execute_result"
    }
   ],
   "source": [
    "data.isnull().sum()"
   ]
  },
  {
   "cell_type": "code",
   "execution_count": 9,
   "id": "3345efd0-e0da-4f24-ace8-e4854712e3ee",
   "metadata": {},
   "outputs": [],
   "source": [
    "pd.set_option('display.max_colwidth', None)"
   ]
  },
  {
   "cell_type": "code",
   "execution_count": 10,
   "id": "d2de18c4-d290-4a93-a800-a0f4d04fa54f",
   "metadata": {},
   "outputs": [
    {
     "data": {
      "text/plain": [
       "0                                   \"I used to take another oral contraceptive, which had 21 pill cycle, and was very happy- very light periods, max 5 days, no other side effects. But it contained hormone gestodene, which is not available in US, so I switched to Lybrel, because the ingredients are similar. When my other pills ended, I started Lybrel immediately, on my first day of period, as the instructions said. And the period lasted for two weeks. When taking the second pack- same two weeks. And now, with third pack things got even worse- my third period lasted for two weeks and now it&#039;s the end of the third week- I still have daily brown discharge.\\r\\nThe positive side is that I didn&#039;t have any other side effects. The idea of being period free was so tempting... Alas.\"\n",
       "1                                                                                                                                                                                                                                                                                                                                                        \"This is my first time using any form of birth control. I&#039;m glad I went with the patch, I have been on it for 8 months. At first It decreased my libido but that subsided. The only downside is that it made my periods longer (5-6 days to be exact) I used to only have periods for 3-4 days max also made my cramps intense for the first two days of my period, I never had cramps before using birth control. Other than that in happy with the patch\"\n",
       "2                                                                                                                                                                                                                                                                                                                                                                                                                                                                                                                                                                                                                                                                          \"He pulled out, but he cummed a bit in me. I took the Plan B 26 hours later, and took a pregnancy test two weeks later - - I&#039;m pregnant.\"\n",
       "3                                                       \"I had been on the pill for many years. When my doctor changed my RX to chateal, it was as effective. It really did help me by completely clearing my acne, this takes about 6 months though. I did not gain extra weight, or develop any emotional health issues. I stopped taking it bc I started using a more natural method of birth control, but started to take it bc I hate that my acne came back at age 28. I really hope symptoms like depression, or weight gain do not begin to affect me as I am older now. I&#039;m also naturally moody, so this may worsen things. I was in a negative mental rut today. Also I hope this doesn&#039;t push me over the edge, as I believe I am depressed. Hopefully it&#039;ll be just like when I was younger.\"\n",
       "4    \"Started Nexplanon 2 months ago because I have a minimal amount of contraception&#039;s I can take due to my inability to take the hormone that is used in most birth controls. I&#039;m trying to give it time because it is one of my only options right now. But honestly if I had options I&#039;d get it removed.\\r\\nI&#039;ve never had acne problems in my life, and immediately broke out after getting it implanted. Sex drive is completely gone, and I used to have sex with my boyfriend a few days a week, now its completely forced and not even fun for me anymore. I mean I&#039;m on birth control because I like having sex but don&#039;t want to get pregnant, why take a birth control that takes away sex? Very unhappy and hope that I get it back with time or I&#039;m getting it removed.\"\n",
       "5                                                                                                                                                                                                                                                                                                                                                                              \"Nexplanon does its job. I can have worry free sex. The only thing is that my periods are sometimes light and sometimes heavy. Sometimes they go away and sometimes they show up unexpected. I also feel somewhat depressed. Not sure if its Nexplanon or not. I&#039;ve had Nexplanont for about 2 months now, but despite the side effects its the most effective birth control I&#039;ve ever used and I do not plan on taking it out.\"\n",
       "6                                                                                                                                                                                                                                                                                                                          \"Never again! After being on depo I was suppose to b an ideal candidate the first 6 months was ok bit moody but fine no weight gain but then something changed I was constantly bleeding and getting horrible hormone spots I normally have clear skin mood swings were increasing. After 14 months I decided to have it taken out and that was an ordeal they can b very tricky for the doc remove. So 3 anesthetics and a few stitches later its out. It&#039;s simply not worth the hassle\"\n",
       "7                                                                                                                                                                                                                                                                                                             \"I was put on Yasmin for 6 months to regulate my cycle and reduce acne flare-ups and it was the worst 6 months of my life. I gained 20lbs that did NOT come off easily after stopping the pill, experienced horrible mood swings, had HEAVIER periods, acne breakouts, breakthrough bleeding, and I was nauseous all the time. This pill seems to agree with most people but it definitely did not agree with me. I went on Femcon a year after stopping Yasmin and experienced virtually no side effects.\"\n",
       "8                                                                                                                                                                                        \"I have been on this for 8 months and sad to say it&#039;s caused nothing but my self esteem to become lower. I&#039;ve gained 10 lbs out of no where. I&#039;m only 22 and have a fast metabolism. I thought it started to slow down but it didn&#039;t make sense. My breasts got smaller, I have lost complete sex drive, my breasts aren&#039;t sensitive anymore at all like they used to be and I&#039;m so emotional, even crying at times. The only thing I can say is that it is 100% effective but not worth what it has done to my body. Not only that but I started breaking out on my body and on my face as well.\"\n",
       "9                                                                                                                                                                        \"I was off birth control for a while considering getting pregnant. I had used other types of birth control before, the pill, the patch, etc. I decided to get back on birth control but didn&#039;t want to worry about taking a daily pill so I requested the Nuvaring. When I started the Nuvaring I felt it inside my body and had a lot of cramps. A few days later I started experiencing more cramps and very strong upper stomach pain. They were so bad I missed work for a week. Finally I ended up going to the ER and they couldn&#039;t figure out what was wrong. I finally asked the doctor and it was the Nuvaring side effects.\"\n",
       "Name: review, dtype: object"
      ]
     },
     "execution_count": 10,
     "metadata": {},
     "output_type": "execute_result"
    }
   ],
   "source": [
    "data[\"review\"][:10]"
   ]
  },
  {
   "cell_type": "code",
   "execution_count": null,
   "id": "d89b8e80-10fc-44ba-b952-75ad0d33d192",
   "metadata": {},
   "outputs": [],
   "source": [
    "#Now, I'll split reviews into negative and positive. Negative reviews have rating 1-5 (inclusive), positive: 6-10."
   ]
  },
  {
   "cell_type": "code",
   "execution_count": 18,
   "id": "5ce3824c-f380-4679-b6a4-a3570d38f398",
   "metadata": {},
   "outputs": [],
   "source": [
    "data.loc[(data[\"rating\"] >= 1) & (data[\"rating\"] <= 5), \"sentiment\"] = \"negative\"\n",
    "data.loc[(data[\"rating\"] >= 6) & (data[\"rating\"] <= 10), \"sentiment\"] = \"positive\""
   ]
  },
  {
   "cell_type": "code",
   "execution_count": 22,
   "id": "1bd8c372-de6b-4758-b4c7-e04e83ecac5a",
   "metadata": {},
   "outputs": [],
   "source": [
    "#for my future modelling, I should actually replace \"negative\", \"positive\" clasification into a binary one:\n",
    "# 0 for negative, 1 for positive\n",
    "#let's create another column \"binary_target\" based on those rules\n",
    "# it depends on the model - some models complain \n",
    "\n",
    "data.loc[data[\"sentiment\"] == \"negative\", \"binary_target\"] = int(0)\n",
    "data.loc[data[\"sentiment\"] == \"positive\", \"binary_target\"] = int(1)"
   ]
  },
  {
   "cell_type": "code",
   "execution_count": 23,
   "id": "546ecc4c-7949-4a92-8010-1a2ca71214d6",
   "metadata": {},
   "outputs": [
    {
     "data": {
      "text/html": [
       "<div>\n",
       "<style scoped>\n",
       "    .dataframe tbody tr th:only-of-type {\n",
       "        vertical-align: middle;\n",
       "    }\n",
       "\n",
       "    .dataframe tbody tr th {\n",
       "        vertical-align: top;\n",
       "    }\n",
       "\n",
       "    .dataframe thead th {\n",
       "        text-align: right;\n",
       "    }\n",
       "</style>\n",
       "<table border=\"1\" class=\"dataframe\">\n",
       "  <thead>\n",
       "    <tr style=\"text-align: right;\">\n",
       "      <th></th>\n",
       "      <th>review</th>\n",
       "      <th>rating</th>\n",
       "      <th>sentiment</th>\n",
       "      <th>binary_target</th>\n",
       "    </tr>\n",
       "  </thead>\n",
       "  <tbody>\n",
       "    <tr>\n",
       "      <th>0</th>\n",
       "      <td>\"I used to take another oral contraceptive, which had 21 pill cycle, and was very happy- very light periods, max 5 days, no other side effects. But it contained hormone gestodene, which is not available in US, so I switched to Lybrel, because the ingredients are similar. When my other pills ended, I started Lybrel immediately, on my first day of period, as the instructions said. And the period lasted for two weeks. When taking the second pack- same two weeks. And now, with third pack things got even worse- my third period lasted for two weeks and now it&amp;#039;s the end of the third week- I still have daily brown discharge.\\r\\nThe positive side is that I didn&amp;#039;t have any other side effects. The idea of being period free was so tempting... Alas.\"</td>\n",
       "      <td>5</td>\n",
       "      <td>negative</td>\n",
       "      <td>0.0</td>\n",
       "    </tr>\n",
       "    <tr>\n",
       "      <th>1</th>\n",
       "      <td>\"This is my first time using any form of birth control. I&amp;#039;m glad I went with the patch, I have been on it for 8 months. At first It decreased my libido but that subsided. The only downside is that it made my periods longer (5-6 days to be exact) I used to only have periods for 3-4 days max also made my cramps intense for the first two days of my period, I never had cramps before using birth control. Other than that in happy with the patch\"</td>\n",
       "      <td>8</td>\n",
       "      <td>positive</td>\n",
       "      <td>1.0</td>\n",
       "    </tr>\n",
       "    <tr>\n",
       "      <th>2</th>\n",
       "      <td>\"He pulled out, but he cummed a bit in me. I took the Plan B 26 hours later, and took a pregnancy test two weeks later - - I&amp;#039;m pregnant.\"</td>\n",
       "      <td>1</td>\n",
       "      <td>negative</td>\n",
       "      <td>0.0</td>\n",
       "    </tr>\n",
       "    <tr>\n",
       "      <th>3</th>\n",
       "      <td>\"I had been on the pill for many years. When my doctor changed my RX to chateal, it was as effective. It really did help me by completely clearing my acne, this takes about 6 months though. I did not gain extra weight, or develop any emotional health issues. I stopped taking it bc I started using a more natural method of birth control, but started to take it bc I hate that my acne came back at age 28. I really hope symptoms like depression, or weight gain do not begin to affect me as I am older now. I&amp;#039;m also naturally moody, so this may worsen things. I was in a negative mental rut today. Also I hope this doesn&amp;#039;t push me over the edge, as I believe I am depressed. Hopefully it&amp;#039;ll be just like when I was younger.\"</td>\n",
       "      <td>8</td>\n",
       "      <td>positive</td>\n",
       "      <td>1.0</td>\n",
       "    </tr>\n",
       "    <tr>\n",
       "      <th>4</th>\n",
       "      <td>\"Started Nexplanon 2 months ago because I have a minimal amount of contraception&amp;#039;s I can take due to my inability to take the hormone that is used in most birth controls. I&amp;#039;m trying to give it time because it is one of my only options right now. But honestly if I had options I&amp;#039;d get it removed.\\r\\nI&amp;#039;ve never had acne problems in my life, and immediately broke out after getting it implanted. Sex drive is completely gone, and I used to have sex with my boyfriend a few days a week, now its completely forced and not even fun for me anymore. I mean I&amp;#039;m on birth control because I like having sex but don&amp;#039;t want to get pregnant, why take a birth control that takes away sex? Very unhappy and hope that I get it back with time or I&amp;#039;m getting it removed.\"</td>\n",
       "      <td>3</td>\n",
       "      <td>negative</td>\n",
       "      <td>0.0</td>\n",
       "    </tr>\n",
       "    <tr>\n",
       "      <th>...</th>\n",
       "      <td>...</td>\n",
       "      <td>...</td>\n",
       "      <td>...</td>\n",
       "      <td>...</td>\n",
       "    </tr>\n",
       "    <tr>\n",
       "      <th>31246</th>\n",
       "      <td>\"I switched to Portia 12 days ago when I started spotting from another birth control (Alesse). I just wanted to say I started taking Portia on Tuesday and have been crying for consecutive days from Friday to Tuesday out of no where. I have also found it very hard to get studying and made me a much lazier person. I will be discontinuing this birth control today because my mood swings were affecting me too much.\"</td>\n",
       "      <td>1</td>\n",
       "      <td>negative</td>\n",
       "      <td>0.0</td>\n",
       "    </tr>\n",
       "    <tr>\n",
       "      <th>31247</th>\n",
       "      <td>\"When I first starting taking Lo Loestrin Fe, it was the first birth control pill I had taken, so I was expecting to become a little moody (which had subsided after about two weeks), but besides that I was completely fine. The first month on the pill I had a little breakthrough bleeding (very little brown discharge-- only for a couple of days), and this too had subsided after the first month. Ever since then I have had no period, no weight gain, no cramps, no breakthrough bleeding, no spotting, no nothing!\"</td>\n",
       "      <td>10</td>\n",
       "      <td>positive</td>\n",
       "      <td>1.0</td>\n",
       "    </tr>\n",
       "    <tr>\n",
       "      <th>31248</th>\n",
       "      <td>\"My experience: Painful insertion but I expected that since I&amp;#039;ve never had children. There was a lot of bloating, cramping,  and breast tenderness in the first couple of weeks. I used Pamprin and a heating pad on my belly and that helped. About a week after insertion came the brown sludge  and lasted about ten days.  The first month was a study in misery but after that my periods stopped and it&amp;#039;s been a breeze with some occasional light cramping and spotting. The only drawback for me personally is that I am 51 years old and perimenopausal so not having periods makes it impossible for me to track my cycle. But overall I am delighted.\"</td>\n",
       "      <td>10</td>\n",
       "      <td>positive</td>\n",
       "      <td>1.0</td>\n",
       "    </tr>\n",
       "    <tr>\n",
       "      <th>31249</th>\n",
       "      <td>\"I have had the Nexplanon since Dec. 27, 2016 \\r\\r\\nI got my first period at the end of January and it lasted about a month and a half. In March of 2017 I didn&amp;#039;t bleed for close to three weeks and then started bleeding again March 28th and have been bleeding every since. I have gained about 13 lbs so far since getting the birth control. Although for now the weight gain isn&amp;#039;t a deal breaker for me but the bleeding is..  I am trying to be very patient to see how my body adjusts to the implant. It has been three months so far and I have my fingers crossed that my cycle will go away for awhile.\"</td>\n",
       "      <td>6</td>\n",
       "      <td>positive</td>\n",
       "      <td>1.0</td>\n",
       "    </tr>\n",
       "    <tr>\n",
       "      <th>31250</th>\n",
       "      <td>\"This would be my second month on Junel. I&amp;#039;ve been on Birth Control for about 10 years now. I changed due to spotting and increased mood swings with my previous birth control. Since the switch I have had shorter periods about 2-3 days, but I have gained major weight and increased appetite. I switched up my regular exercise routine and still have not managed to drop the extra 7 lbs ;(\"</td>\n",
       "      <td>6</td>\n",
       "      <td>positive</td>\n",
       "      <td>1.0</td>\n",
       "    </tr>\n",
       "  </tbody>\n",
       "</table>\n",
       "<p>31251 rows × 4 columns</p>\n",
       "</div>"
      ],
      "text/plain": [
       "                                                                                                                                                                                                                                                                                                                                                                                                                                                                                                                                                                                                                                                                                                                                                                                                                     review  \\\n",
       "0                                     \"I used to take another oral contraceptive, which had 21 pill cycle, and was very happy- very light periods, max 5 days, no other side effects. But it contained hormone gestodene, which is not available in US, so I switched to Lybrel, because the ingredients are similar. When my other pills ended, I started Lybrel immediately, on my first day of period, as the instructions said. And the period lasted for two weeks. When taking the second pack- same two weeks. And now, with third pack things got even worse- my third period lasted for two weeks and now it&#039;s the end of the third week- I still have daily brown discharge.\\r\\nThe positive side is that I didn&#039;t have any other side effects. The idea of being period free was so tempting... Alas.\"   \n",
       "1                                                                                                                                                                                                                                                                                                                                                          \"This is my first time using any form of birth control. I&#039;m glad I went with the patch, I have been on it for 8 months. At first It decreased my libido but that subsided. The only downside is that it made my periods longer (5-6 days to be exact) I used to only have periods for 3-4 days max also made my cramps intense for the first two days of my period, I never had cramps before using birth control. Other than that in happy with the patch\"   \n",
       "2                                                                                                                                                                                                                                                                                                                                                                                                                                                                                                                                                                                                                                                                            \"He pulled out, but he cummed a bit in me. I took the Plan B 26 hours later, and took a pregnancy test two weeks later - - I&#039;m pregnant.\"   \n",
       "3                                                         \"I had been on the pill for many years. When my doctor changed my RX to chateal, it was as effective. It really did help me by completely clearing my acne, this takes about 6 months though. I did not gain extra weight, or develop any emotional health issues. I stopped taking it bc I started using a more natural method of birth control, but started to take it bc I hate that my acne came back at age 28. I really hope symptoms like depression, or weight gain do not begin to affect me as I am older now. I&#039;m also naturally moody, so this may worsen things. I was in a negative mental rut today. Also I hope this doesn&#039;t push me over the edge, as I believe I am depressed. Hopefully it&#039;ll be just like when I was younger.\"   \n",
       "4      \"Started Nexplanon 2 months ago because I have a minimal amount of contraception&#039;s I can take due to my inability to take the hormone that is used in most birth controls. I&#039;m trying to give it time because it is one of my only options right now. But honestly if I had options I&#039;d get it removed.\\r\\nI&#039;ve never had acne problems in my life, and immediately broke out after getting it implanted. Sex drive is completely gone, and I used to have sex with my boyfriend a few days a week, now its completely forced and not even fun for me anymore. I mean I&#039;m on birth control because I like having sex but don&#039;t want to get pregnant, why take a birth control that takes away sex? Very unhappy and hope that I get it back with time or I&#039;m getting it removed.\"   \n",
       "...                                                                                                                                                                                                                                                                                                                                                                                                                                                                                                                                                                                                                                                                                                                                                                                                                     ...   \n",
       "31246                                                                                                                                                                                                                                                                                                                                                                                        \"I switched to Portia 12 days ago when I started spotting from another birth control (Alesse). I just wanted to say I started taking Portia on Tuesday and have been crying for consecutive days from Friday to Tuesday out of no where. I have also found it very hard to get studying and made me a much lazier person. I will be discontinuing this birth control today because my mood swings were affecting me too much.\"   \n",
       "31247                                                                                                                                                                                                                                                                                      \"When I first starting taking Lo Loestrin Fe, it was the first birth control pill I had taken, so I was expecting to become a little moody (which had subsided after about two weeks), but besides that I was completely fine. The first month on the pill I had a little breakthrough bleeding (very little brown discharge-- only for a couple of days), and this too had subsided after the first month. Ever since then I have had no period, no weight gain, no cramps, no breakthrough bleeding, no spotting, no nothing!\"   \n",
       "31248                                                                                                                                           \"My experience: Painful insertion but I expected that since I&#039;ve never had children. There was a lot of bloating, cramping,  and breast tenderness in the first couple of weeks. I used Pamprin and a heating pad on my belly and that helped. About a week after insertion came the brown sludge  and lasted about ten days.  The first month was a study in misery but after that my periods stopped and it&#039;s been a breeze with some occasional light cramping and spotting. The only drawback for me personally is that I am 51 years old and perimenopausal so not having periods makes it impossible for me to track my cycle. But overall I am delighted.\"   \n",
       "31249                                                                                                                                                                                      \"I have had the Nexplanon since Dec. 27, 2016 \\r\\r\\nI got my first period at the end of January and it lasted about a month and a half. In March of 2017 I didn&#039;t bleed for close to three weeks and then started bleeding again March 28th and have been bleeding every since. I have gained about 13 lbs so far since getting the birth control. Although for now the weight gain isn&#039;t a deal breaker for me but the bleeding is..  I am trying to be very patient to see how my body adjusts to the implant. It has been three months so far and I have my fingers crossed that my cycle will go away for awhile.\"   \n",
       "31250                                                                                                                                                                                                                                                                                                                                                                                                              \"This would be my second month on Junel. I&#039;ve been on Birth Control for about 10 years now. I changed due to spotting and increased mood swings with my previous birth control. Since the switch I have had shorter periods about 2-3 days, but I have gained major weight and increased appetite. I switched up my regular exercise routine and still have not managed to drop the extra 7 lbs ;(\"   \n",
       "\n",
       "       rating sentiment  binary_target  \n",
       "0           5  negative            0.0  \n",
       "1           8  positive            1.0  \n",
       "2           1  negative            0.0  \n",
       "3           8  positive            1.0  \n",
       "4           3  negative            0.0  \n",
       "...       ...       ...            ...  \n",
       "31246       1  negative            0.0  \n",
       "31247      10  positive            1.0  \n",
       "31248      10  positive            1.0  \n",
       "31249       6  positive            1.0  \n",
       "31250       6  positive            1.0  \n",
       "\n",
       "[31251 rows x 4 columns]"
      ]
     },
     "execution_count": 23,
     "metadata": {},
     "output_type": "execute_result"
    }
   ],
   "source": [
    "data[[\"review\", \"rating\", \"sentiment\", \"binary_target\"]]"
   ]
  },
  {
   "cell_type": "code",
   "execution_count": 26,
   "id": "593d9f85-2dc9-47b9-852c-30d9da52d095",
   "metadata": {},
   "outputs": [],
   "source": [
    "data[\"binary_target\"] = data[\"binary_target\"].astype(int)"
   ]
  },
  {
   "cell_type": "code",
   "execution_count": 27,
   "id": "8278ea66-b263-40be-9626-d3f27b22e424",
   "metadata": {},
   "outputs": [
    {
     "data": {
      "text/html": [
       "<div>\n",
       "<style scoped>\n",
       "    .dataframe tbody tr th:only-of-type {\n",
       "        vertical-align: middle;\n",
       "    }\n",
       "\n",
       "    .dataframe tbody tr th {\n",
       "        vertical-align: top;\n",
       "    }\n",
       "\n",
       "    .dataframe thead th {\n",
       "        text-align: right;\n",
       "    }\n",
       "</style>\n",
       "<table border=\"1\" class=\"dataframe\">\n",
       "  <thead>\n",
       "    <tr style=\"text-align: right;\">\n",
       "      <th></th>\n",
       "      <th>review</th>\n",
       "      <th>rating</th>\n",
       "      <th>sentiment</th>\n",
       "      <th>binary_target</th>\n",
       "    </tr>\n",
       "  </thead>\n",
       "  <tbody>\n",
       "    <tr>\n",
       "      <th>0</th>\n",
       "      <td>\"I used to take another oral contraceptive, which had 21 pill cycle, and was very happy- very light periods, max 5 days, no other side effects. But it contained hormone gestodene, which is not available in US, so I switched to Lybrel, because the ingredients are similar. When my other pills ended, I started Lybrel immediately, on my first day of period, as the instructions said. And the period lasted for two weeks. When taking the second pack- same two weeks. And now, with third pack things got even worse- my third period lasted for two weeks and now it&amp;#039;s the end of the third week- I still have daily brown discharge.\\r\\nThe positive side is that I didn&amp;#039;t have any other side effects. The idea of being period free was so tempting... Alas.\"</td>\n",
       "      <td>5</td>\n",
       "      <td>negative</td>\n",
       "      <td>0</td>\n",
       "    </tr>\n",
       "    <tr>\n",
       "      <th>1</th>\n",
       "      <td>\"This is my first time using any form of birth control. I&amp;#039;m glad I went with the patch, I have been on it for 8 months. At first It decreased my libido but that subsided. The only downside is that it made my periods longer (5-6 days to be exact) I used to only have periods for 3-4 days max also made my cramps intense for the first two days of my period, I never had cramps before using birth control. Other than that in happy with the patch\"</td>\n",
       "      <td>8</td>\n",
       "      <td>positive</td>\n",
       "      <td>1</td>\n",
       "    </tr>\n",
       "    <tr>\n",
       "      <th>2</th>\n",
       "      <td>\"He pulled out, but he cummed a bit in me. I took the Plan B 26 hours later, and took a pregnancy test two weeks later - - I&amp;#039;m pregnant.\"</td>\n",
       "      <td>1</td>\n",
       "      <td>negative</td>\n",
       "      <td>0</td>\n",
       "    </tr>\n",
       "    <tr>\n",
       "      <th>3</th>\n",
       "      <td>\"I had been on the pill for many years. When my doctor changed my RX to chateal, it was as effective. It really did help me by completely clearing my acne, this takes about 6 months though. I did not gain extra weight, or develop any emotional health issues. I stopped taking it bc I started using a more natural method of birth control, but started to take it bc I hate that my acne came back at age 28. I really hope symptoms like depression, or weight gain do not begin to affect me as I am older now. I&amp;#039;m also naturally moody, so this may worsen things. I was in a negative mental rut today. Also I hope this doesn&amp;#039;t push me over the edge, as I believe I am depressed. Hopefully it&amp;#039;ll be just like when I was younger.\"</td>\n",
       "      <td>8</td>\n",
       "      <td>positive</td>\n",
       "      <td>1</td>\n",
       "    </tr>\n",
       "    <tr>\n",
       "      <th>4</th>\n",
       "      <td>\"Started Nexplanon 2 months ago because I have a minimal amount of contraception&amp;#039;s I can take due to my inability to take the hormone that is used in most birth controls. I&amp;#039;m trying to give it time because it is one of my only options right now. But honestly if I had options I&amp;#039;d get it removed.\\r\\nI&amp;#039;ve never had acne problems in my life, and immediately broke out after getting it implanted. Sex drive is completely gone, and I used to have sex with my boyfriend a few days a week, now its completely forced and not even fun for me anymore. I mean I&amp;#039;m on birth control because I like having sex but don&amp;#039;t want to get pregnant, why take a birth control that takes away sex? Very unhappy and hope that I get it back with time or I&amp;#039;m getting it removed.\"</td>\n",
       "      <td>3</td>\n",
       "      <td>negative</td>\n",
       "      <td>0</td>\n",
       "    </tr>\n",
       "    <tr>\n",
       "      <th>...</th>\n",
       "      <td>...</td>\n",
       "      <td>...</td>\n",
       "      <td>...</td>\n",
       "      <td>...</td>\n",
       "    </tr>\n",
       "    <tr>\n",
       "      <th>31246</th>\n",
       "      <td>\"I switched to Portia 12 days ago when I started spotting from another birth control (Alesse). I just wanted to say I started taking Portia on Tuesday and have been crying for consecutive days from Friday to Tuesday out of no where. I have also found it very hard to get studying and made me a much lazier person. I will be discontinuing this birth control today because my mood swings were affecting me too much.\"</td>\n",
       "      <td>1</td>\n",
       "      <td>negative</td>\n",
       "      <td>0</td>\n",
       "    </tr>\n",
       "    <tr>\n",
       "      <th>31247</th>\n",
       "      <td>\"When I first starting taking Lo Loestrin Fe, it was the first birth control pill I had taken, so I was expecting to become a little moody (which had subsided after about two weeks), but besides that I was completely fine. The first month on the pill I had a little breakthrough bleeding (very little brown discharge-- only for a couple of days), and this too had subsided after the first month. Ever since then I have had no period, no weight gain, no cramps, no breakthrough bleeding, no spotting, no nothing!\"</td>\n",
       "      <td>10</td>\n",
       "      <td>positive</td>\n",
       "      <td>1</td>\n",
       "    </tr>\n",
       "    <tr>\n",
       "      <th>31248</th>\n",
       "      <td>\"My experience: Painful insertion but I expected that since I&amp;#039;ve never had children. There was a lot of bloating, cramping,  and breast tenderness in the first couple of weeks. I used Pamprin and a heating pad on my belly and that helped. About a week after insertion came the brown sludge  and lasted about ten days.  The first month was a study in misery but after that my periods stopped and it&amp;#039;s been a breeze with some occasional light cramping and spotting. The only drawback for me personally is that I am 51 years old and perimenopausal so not having periods makes it impossible for me to track my cycle. But overall I am delighted.\"</td>\n",
       "      <td>10</td>\n",
       "      <td>positive</td>\n",
       "      <td>1</td>\n",
       "    </tr>\n",
       "    <tr>\n",
       "      <th>31249</th>\n",
       "      <td>\"I have had the Nexplanon since Dec. 27, 2016 \\r\\r\\nI got my first period at the end of January and it lasted about a month and a half. In March of 2017 I didn&amp;#039;t bleed for close to three weeks and then started bleeding again March 28th and have been bleeding every since. I have gained about 13 lbs so far since getting the birth control. Although for now the weight gain isn&amp;#039;t a deal breaker for me but the bleeding is..  I am trying to be very patient to see how my body adjusts to the implant. It has been three months so far and I have my fingers crossed that my cycle will go away for awhile.\"</td>\n",
       "      <td>6</td>\n",
       "      <td>positive</td>\n",
       "      <td>1</td>\n",
       "    </tr>\n",
       "    <tr>\n",
       "      <th>31250</th>\n",
       "      <td>\"This would be my second month on Junel. I&amp;#039;ve been on Birth Control for about 10 years now. I changed due to spotting and increased mood swings with my previous birth control. Since the switch I have had shorter periods about 2-3 days, but I have gained major weight and increased appetite. I switched up my regular exercise routine and still have not managed to drop the extra 7 lbs ;(\"</td>\n",
       "      <td>6</td>\n",
       "      <td>positive</td>\n",
       "      <td>1</td>\n",
       "    </tr>\n",
       "  </tbody>\n",
       "</table>\n",
       "<p>31251 rows × 4 columns</p>\n",
       "</div>"
      ],
      "text/plain": [
       "                                                                                                                                                                                                                                                                                                                                                                                                                                                                                                                                                                                                                                                                                                                                                                                                                     review  \\\n",
       "0                                     \"I used to take another oral contraceptive, which had 21 pill cycle, and was very happy- very light periods, max 5 days, no other side effects. But it contained hormone gestodene, which is not available in US, so I switched to Lybrel, because the ingredients are similar. When my other pills ended, I started Lybrel immediately, on my first day of period, as the instructions said. And the period lasted for two weeks. When taking the second pack- same two weeks. And now, with third pack things got even worse- my third period lasted for two weeks and now it&#039;s the end of the third week- I still have daily brown discharge.\\r\\nThe positive side is that I didn&#039;t have any other side effects. The idea of being period free was so tempting... Alas.\"   \n",
       "1                                                                                                                                                                                                                                                                                                                                                          \"This is my first time using any form of birth control. I&#039;m glad I went with the patch, I have been on it for 8 months. At first It decreased my libido but that subsided. The only downside is that it made my periods longer (5-6 days to be exact) I used to only have periods for 3-4 days max also made my cramps intense for the first two days of my period, I never had cramps before using birth control. Other than that in happy with the patch\"   \n",
       "2                                                                                                                                                                                                                                                                                                                                                                                                                                                                                                                                                                                                                                                                            \"He pulled out, but he cummed a bit in me. I took the Plan B 26 hours later, and took a pregnancy test two weeks later - - I&#039;m pregnant.\"   \n",
       "3                                                         \"I had been on the pill for many years. When my doctor changed my RX to chateal, it was as effective. It really did help me by completely clearing my acne, this takes about 6 months though. I did not gain extra weight, or develop any emotional health issues. I stopped taking it bc I started using a more natural method of birth control, but started to take it bc I hate that my acne came back at age 28. I really hope symptoms like depression, or weight gain do not begin to affect me as I am older now. I&#039;m also naturally moody, so this may worsen things. I was in a negative mental rut today. Also I hope this doesn&#039;t push me over the edge, as I believe I am depressed. Hopefully it&#039;ll be just like when I was younger.\"   \n",
       "4      \"Started Nexplanon 2 months ago because I have a minimal amount of contraception&#039;s I can take due to my inability to take the hormone that is used in most birth controls. I&#039;m trying to give it time because it is one of my only options right now. But honestly if I had options I&#039;d get it removed.\\r\\nI&#039;ve never had acne problems in my life, and immediately broke out after getting it implanted. Sex drive is completely gone, and I used to have sex with my boyfriend a few days a week, now its completely forced and not even fun for me anymore. I mean I&#039;m on birth control because I like having sex but don&#039;t want to get pregnant, why take a birth control that takes away sex? Very unhappy and hope that I get it back with time or I&#039;m getting it removed.\"   \n",
       "...                                                                                                                                                                                                                                                                                                                                                                                                                                                                                                                                                                                                                                                                                                                                                                                                                     ...   \n",
       "31246                                                                                                                                                                                                                                                                                                                                                                                        \"I switched to Portia 12 days ago when I started spotting from another birth control (Alesse). I just wanted to say I started taking Portia on Tuesday and have been crying for consecutive days from Friday to Tuesday out of no where. I have also found it very hard to get studying and made me a much lazier person. I will be discontinuing this birth control today because my mood swings were affecting me too much.\"   \n",
       "31247                                                                                                                                                                                                                                                                                      \"When I first starting taking Lo Loestrin Fe, it was the first birth control pill I had taken, so I was expecting to become a little moody (which had subsided after about two weeks), but besides that I was completely fine. The first month on the pill I had a little breakthrough bleeding (very little brown discharge-- only for a couple of days), and this too had subsided after the first month. Ever since then I have had no period, no weight gain, no cramps, no breakthrough bleeding, no spotting, no nothing!\"   \n",
       "31248                                                                                                                                           \"My experience: Painful insertion but I expected that since I&#039;ve never had children. There was a lot of bloating, cramping,  and breast tenderness in the first couple of weeks. I used Pamprin and a heating pad on my belly and that helped. About a week after insertion came the brown sludge  and lasted about ten days.  The first month was a study in misery but after that my periods stopped and it&#039;s been a breeze with some occasional light cramping and spotting. The only drawback for me personally is that I am 51 years old and perimenopausal so not having periods makes it impossible for me to track my cycle. But overall I am delighted.\"   \n",
       "31249                                                                                                                                                                                      \"I have had the Nexplanon since Dec. 27, 2016 \\r\\r\\nI got my first period at the end of January and it lasted about a month and a half. In March of 2017 I didn&#039;t bleed for close to three weeks and then started bleeding again March 28th and have been bleeding every since. I have gained about 13 lbs so far since getting the birth control. Although for now the weight gain isn&#039;t a deal breaker for me but the bleeding is..  I am trying to be very patient to see how my body adjusts to the implant. It has been three months so far and I have my fingers crossed that my cycle will go away for awhile.\"   \n",
       "31250                                                                                                                                                                                                                                                                                                                                                                                                              \"This would be my second month on Junel. I&#039;ve been on Birth Control for about 10 years now. I changed due to spotting and increased mood swings with my previous birth control. Since the switch I have had shorter periods about 2-3 days, but I have gained major weight and increased appetite. I switched up my regular exercise routine and still have not managed to drop the extra 7 lbs ;(\"   \n",
       "\n",
       "       rating sentiment  binary_target  \n",
       "0           5  negative              0  \n",
       "1           8  positive              1  \n",
       "2           1  negative              0  \n",
       "3           8  positive              1  \n",
       "4           3  negative              0  \n",
       "...       ...       ...            ...  \n",
       "31246       1  negative              0  \n",
       "31247      10  positive              1  \n",
       "31248      10  positive              1  \n",
       "31249       6  positive              1  \n",
       "31250       6  positive              1  \n",
       "\n",
       "[31251 rows x 4 columns]"
      ]
     },
     "execution_count": 27,
     "metadata": {},
     "output_type": "execute_result"
    }
   ],
   "source": [
    "data[[\"review\", \"rating\", \"sentiment\", \"binary_target\"]]"
   ]
  },
  {
   "cell_type": "code",
   "execution_count": null,
   "id": "dc5dfe2d-dc58-49c4-89b8-e9a664c897cb",
   "metadata": {},
   "outputs": [],
   "source": [
    "#I have some weird symbols in my reviews, lik: \"&#039;\" - ASCII , \" \\r\\r\\nI\" - tab - i should bear them in mind when removing (FOR LATER)\n"
   ]
  },
  {
   "cell_type": "code",
   "execution_count": 31,
   "id": "b2ccab4c-03b4-4d87-945a-0cc2240c6a3b",
   "metadata": {},
   "outputs": [
    {
     "data": {
      "text/plain": [
       "binary_target\n",
       "1    59.655691\n",
       "0    40.344309\n",
       "Name: count, dtype: float64"
      ]
     },
     "execution_count": 31,
     "metadata": {},
     "output_type": "execute_result"
    }
   ],
   "source": [
    "#Now, I want to check the distribution of my target var\n",
    "\n",
    "target_distr = data[\"binary_target\"].value_counts()\n",
    "target_distr*100/len(data)"
   ]
  },
  {
   "cell_type": "code",
   "execution_count": 34,
   "id": "c04b0bc5-0998-480f-b23e-5b4cdcef6168",
   "metadata": {},
   "outputs": [],
   "source": [
    "#DO I NEED TO DROP THE SENTIMENT AS IN THE EXAMPLE FROM THE 2ND CLASS?\n",
    "\n",
    "#sample = sample.drop('target', axis=1)  # you need to drop this column otherwise you'll be cheating the model\n",
    "\n",
    "data = data.drop(\"sentiment\", axis=1)"
   ]
  },
  {
   "cell_type": "code",
   "execution_count": null,
   "id": "26e0d885-e1f7-41b4-9a1e-54d696979540",
   "metadata": {},
   "outputs": [],
   "source": [
    "#Splitting my data for training and test:\n",
    "# - 80% for training and 20% for the test\n",
    "# - I need a stratified sample (bc of 40-60% distribution)"
   ]
  },
  {
   "cell_type": "code",
   "execution_count": 36,
   "id": "a65afe88-6531-4c8a-9d37-727ab84d636c",
   "metadata": {},
   "outputs": [],
   "source": [
    "X_train, X_test, y_train, y_test = \\\n",
    "train_test_split(data[\"review\"], data[\"binary_target\"], test_size=0.2, random_state=123) #random is reproducable; stratified is deafult?"
   ]
  },
  {
   "cell_type": "code",
   "execution_count": 44,
   "id": "92e4157a-d1a7-4064-a841-4344a61da72a",
   "metadata": {},
   "outputs": [
    {
     "name": "stdout",
     "output_type": "stream",
     "text": [
      "Train dimensions: ((25000,), (25000,))\n",
      "Test dimensions: ((6251,), (6251,))\n",
      "\n",
      "Distribution of train binary_target variable for the train set: binary_target\n",
      "1    14864\n",
      "0    10136\n",
      "Name: count, dtype: int64 \n",
      "\n",
      "Distribution of train binary_target variable for the test set: binary_target\n",
      "1    3779\n",
      "0    2472\n",
      "Name: count, dtype: int64\n"
     ]
    }
   ],
   "source": [
    "print(f'Train dimensions: {X_train.shape, y_train.shape}')\n",
    "print(f'Test dimensions: {X_test.shape, y_test.shape}' \"\\n\")# Check out target distribution\n",
    "\n",
    "print(f\"Distribution of train binary_target variable for the train set: {y_train.value_counts()}\", \"\\n\")\n",
    "\n",
    "print(f\"Distribution of train binary_target variable for the test set: {y_test.value_counts()}\")"
   ]
  },
  {
   "cell_type": "code",
   "execution_count": null,
   "id": "1d99d544-515f-42ed-9160-14903465845c",
   "metadata": {},
   "outputs": [],
   "source": [
    "#Preprocessing data "
   ]
  },
  {
   "cell_type": "code",
   "execution_count": 51,
   "id": "34098a37-34c2-496f-ae74-44e57cfc8aa2",
   "metadata": {},
   "outputs": [
    {
     "data": {
      "text/plain": [
       "'\"This is my first time using any form of birth control. I&#039;m glad I went with the patch, I have been on it for 8 months. At first It decreased my libido but that subsided. The only downside is that it made my periods longer (5-6 days to be exact) I used to only have periods for 3-4 days max also made my cramps intense for the first two days of my period, I never had cramps before using birth control. Other than that in happy with the patch\"'"
      ]
     },
     "execution_count": 51,
     "metadata": {},
     "output_type": "execute_result"
    }
   ],
   "source": [
    "eeview_for_processing = X_train[1]\n",
    "review_for_processing"
   ]
  },
  {
   "cell_type": "code",
   "execution_count": 52,
   "id": "a1ca1a95-c060-4278-b682-24444b68ea5e",
   "metadata": {},
   "outputs": [],
   "source": [
    "def preprocess_text(text):\n",
    "    tokeniser = RegexpTokenizer(r'\\w+') #I keep only words - same what Celeste did\n",
    "    tokens = tokeniser.tokenize(text)\n",
    "\n",
    "    #Lower case and lemmatise\n",
    "    lemmatiser = WordNetLemmatizer()\n",
    "    lemmas = [lemmatiser.lemmatize(token.lower(), pos=\"v\") for token in tokens]\n",
    "    lemmas = [lemmatiser.lemmatize(token.lower(), pos=\"n\") for token in lemmas]\n",
    "\n",
    "    #Remove stop words\n",
    "    keywords = [lemma for lemma in lemmas if lemma not in stopwords.words(\"english\")]\n",
    "    return keywords"
   ]
  },
  {
   "cell_type": "code",
   "execution_count": 53,
   "id": "b5c1be3f-ccf6-41fc-ae41-e2b5d6034baf",
   "metadata": {},
   "outputs": [],
   "source": [
    "tokens = preprocess_text(text=review_for_processing)"
   ]
  },
  {
   "cell_type": "code",
   "execution_count": 54,
   "id": "0a21ce94-26bb-456d-bf79-453ae67de8d2",
   "metadata": {},
   "outputs": [
    {
     "data": {
      "text/plain": [
       "['first',\n",
       " 'time',\n",
       " 'use',\n",
       " 'form',\n",
       " 'birth',\n",
       " 'control',\n",
       " '039',\n",
       " 'glad',\n",
       " 'go',\n",
       " 'patch',\n",
       " '8',\n",
       " 'months',\n",
       " 'first',\n",
       " 'decrease',\n",
       " 'libido',\n",
       " 'subside',\n",
       " 'downside',\n",
       " 'make',\n",
       " 'periods',\n",
       " 'longer',\n",
       " '5',\n",
       " '6',\n",
       " 'days',\n",
       " 'exact',\n",
       " 'use',\n",
       " 'periods',\n",
       " '3',\n",
       " '4',\n",
       " 'days',\n",
       " 'max',\n",
       " 'also',\n",
       " 'make',\n",
       " 'cramp',\n",
       " 'intense',\n",
       " 'first',\n",
       " 'two',\n",
       " 'days',\n",
       " 'period',\n",
       " 'never',\n",
       " 'cramp',\n",
       " 'use',\n",
       " 'birth',\n",
       " 'control',\n",
       " 'happy',\n",
       " 'patch']"
      ]
     },
     "execution_count": 54,
     "metadata": {},
     "output_type": "execute_result"
    }
   ],
   "source": [
    "tokens"
   ]
  },
  {
   "cell_type": "code",
   "execution_count": null,
   "id": "818ef7ae-791c-4094-bee2-1d3f5dfcbe38",
   "metadata": {},
   "outputs": [],
   "source": [
    "#preparing reviews for the model using tfidf"
   ]
  },
  {
   "cell_type": "code",
   "execution_count": 55,
   "id": "5ff33f72-6468-462f-ac12-c379aadfc963",
   "metadata": {},
   "outputs": [],
   "source": [
    "vectoriser = TfidfVectorizer(analyzer=preprocess_text) # this is the method you've implemented above\n",
    "X_train_tfidf = vectoriser.fit_transform(X_train)  # notice that you are doing the fit only for train data"
   ]
  },
  {
   "cell_type": "code",
   "execution_count": 56,
   "id": "7bc3b5bf-97cc-4a68-96a7-f4dfe92cdefa",
   "metadata": {},
   "outputs": [
    {
     "data": {
      "text/plain": [
       "(25000, 11432)"
      ]
     },
     "execution_count": 56,
     "metadata": {},
     "output_type": "execute_result"
    }
   ],
   "source": [
    "X_train_tfidf.shape"
   ]
  },
  {
   "cell_type": "code",
   "execution_count": 57,
   "id": "92f92cf6-c169-4be8-9b6f-09152f29372c",
   "metadata": {},
   "outputs": [],
   "source": [
    "X_test_tfidf = vectoriser.transform(X_test) #why??? because the test data needs to be represented in the same space (11432 features)"
   ]
  },
  {
   "cell_type": "code",
   "execution_count": 58,
   "id": "c6646981-c650-4ee0-8512-8d3ebbb1ac7a",
   "metadata": {},
   "outputs": [
    {
     "data": {
      "text/plain": [
       "(6251, 11432)"
      ]
     },
     "execution_count": 58,
     "metadata": {},
     "output_type": "execute_result"
    }
   ],
   "source": [
    "X_test_tfidf.shape"
   ]
  },
  {
   "cell_type": "code",
   "execution_count": null,
   "id": "3ed92f6e-8c10-4923-890e-9af2e12d2a9d",
   "metadata": {},
   "outputs": [],
   "source": [
    "#svm model?"
   ]
  },
  {
   "cell_type": "code",
   "execution_count": 59,
   "id": "373b77f6-ecdd-4bee-b7b2-b1752bb5a840",
   "metadata": {},
   "outputs": [],
   "source": [
    "from sklearn.svm import SVC\n",
    "from sklearn.metrics import classification_report, accuracy_score"
   ]
  },
  {
   "cell_type": "code",
   "execution_count": 1,
   "id": "0503f16e-d02c-4a9b-aed1-2e2dcf18c5b8",
   "metadata": {},
   "outputs": [
    {
     "ename": "NameError",
     "evalue": "name 'SVC' is not defined",
     "output_type": "error",
     "traceback": [
      "\u001b[0;31m---------------------------------------------------------------------------\u001b[0m",
      "\u001b[0;31mNameError\u001b[0m                                 Traceback (most recent call last)",
      "Cell \u001b[0;32mIn[1], line 1\u001b[0m\n\u001b[0;32m----> 1\u001b[0m svm_model \u001b[38;5;241m=\u001b[39m SVC(kernel\u001b[38;5;241m=\u001b[39m\u001b[38;5;124m'\u001b[39m\u001b[38;5;124mlinear\u001b[39m\u001b[38;5;124m'\u001b[39m)  \u001b[38;5;66;03m# should I try another kernel? What does t depend on? I could \u001b[39;00m\n\u001b[1;32m      2\u001b[0m svm_model\u001b[38;5;241m.\u001b[39mfit(X_train_tfidf, y_train)\n",
      "\u001b[0;31mNameError\u001b[0m: name 'SVC' is not defined"
     ]
    }
   ],
   "source": [
    "svm_model = SVC(kernel='linear')  # should I try another kernel? What does t depend on? \n",
    "#read about kernels here https://www.geeksforgeeks.org/svm-hyperparameter-tuning-using-gridsearchcv-ml/\n",
    "svm_model.fit(X_train_tfidf, y_train)"
   ]
  },
  {
   "cell_type": "code",
   "execution_count": 61,
   "id": "45e863a6-b374-425a-aa90-55f5b0cb1463",
   "metadata": {},
   "outputs": [],
   "source": [
    "y_predictions = svm_model.predict(X_test_tfidf)"
   ]
  },
  {
   "cell_type": "code",
   "execution_count": null,
   "id": "9d3bb809-b4dc-4c93-8c5b-6d749e6a71ab",
   "metadata": {},
   "outputs": [],
   "source": [
    "#evaluations"
   ]
  },
  {
   "cell_type": "code",
   "execution_count": 66,
   "id": "c185eef9-9748-465a-9e4d-cf8c525d6708",
   "metadata": {},
   "outputs": [
    {
     "name": "stdout",
     "output_type": "stream",
     "text": [
      "Accuracy: 0.85\n",
      "Classification Report:\n",
      "              precision    recall  f1-score   support\n",
      "\n",
      "           0       0.82      0.80      0.81      2472\n",
      "           1       0.87      0.89      0.88      3779\n",
      "\n",
      "    accuracy                           0.85      6251\n",
      "   macro avg       0.85      0.84      0.84      6251\n",
      "weighted avg       0.85      0.85      0.85      6251\n",
      "\n"
     ]
    }
   ],
   "source": [
    "accuracy = round(accuracy_score(y_test, y_predictions), 2)\n",
    "report = classification_report(y_test, y_predictions)\n",
    "\n",
    "print(f\"Accuracy: {accuracy}\")\n",
    "print(\"Classification Report:\")\n",
    "print(report)"
   ]
  },
  {
   "cell_type": "code",
   "execution_count": null,
   "id": "a8dea856-16dd-4ef8-bd0b-6ef72f8570cc",
   "metadata": {},
   "outputs": [],
   "source": []
  }
 ],
 "metadata": {
  "kernelspec": {
   "display_name": "Python 3 (ipykernel)",
   "language": "python",
   "name": "python3"
  },
  "language_info": {
   "codemirror_mode": {
    "name": "ipython",
    "version": 3
   },
   "file_extension": ".py",
   "mimetype": "text/x-python",
   "name": "python",
   "nbconvert_exporter": "python",
   "pygments_lexer": "ipython3",
   "version": "3.11.8"
  }
 },
 "nbformat": 4,
 "nbformat_minor": 5
}
